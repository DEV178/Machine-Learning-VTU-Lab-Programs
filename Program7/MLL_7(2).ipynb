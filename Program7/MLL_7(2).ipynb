{
  "nbformat": 4,
  "nbformat_minor": 0,
  "metadata": {
    "colab": {
      "name": "MLL-7(2).ipynb",
      "provenance": [],
      "collapsed_sections": [],
      "toc_visible": true
    },
    "kernelspec": {
      "name": "python3",
      "display_name": "Python 3"
    }
  },
  "cells": [
    {
      "cell_type": "code",
      "metadata": {
        "colab": {
          "base_uri": "https://localhost:8080/"
        },
        "id": "FeBXzi9KjL64",
        "outputId": "662960cf-3399-4906-a2e2-9d176353b0a5"
      },
      "source": [
        "#!pip install pgmpy\n",
        "import numpy as np\n",
        "import pandas as pd\n",
        "from pgmpy.estimators import MaximumLikelihoodEstimator\n",
        "from pgmpy.models import BayesianModel\n",
        "from pgmpy.inference import VariableElimination\n"
      ],
      "execution_count": null,
      "outputs": [
        {
          "output_type": "stream",
          "text": [
            "/usr/local/lib/python3.6/dist-packages/statsmodels/tools/_testing.py:19: FutureWarning: pandas.util.testing is deprecated. Use the functions in the public API at pandas.testing instead.\n",
            "  import pandas.util.testing as tm\n"
          ],
          "name": "stderr"
        }
      ]
    },
    {
      "cell_type": "code",
      "metadata": {
        "colab": {
          "base_uri": "https://localhost:8080/"
        },
        "id": "WuMAqWPajPL4",
        "outputId": "32d7819c-c40f-4b50-aa86-203bc93372e4"
      },
      "source": [
        "df = pd.read_csv('heart_failure.csv')\n",
        "heartfailure = df.replace('?', np.nan)\n",
        "print('Few examples from the dataset are given below')\n",
        "print(heartfailure.head())"
      ],
      "execution_count": null,
      "outputs": [
        {
          "output_type": "stream",
          "text": [
            "Few examples from the dataset are given below\n",
            "    age  anaemia  creatinine_phosphokinase  ...  smoking  time  DEATH_EVENT\n",
            "0  75.0        0                       582  ...        0     4            1\n",
            "1  55.0        0                      7861  ...        0     6            1\n",
            "2  65.0        0                       146  ...        1     7            1\n",
            "3  50.0        1                       111  ...        0     7            1\n",
            "4  65.0        1                       160  ...        0     8            1\n",
            "\n",
            "[5 rows x 13 columns]\n"
          ],
          "name": "stdout"
        }
      ]
    },
    {
      "cell_type": "code",
      "metadata": {
        "id": "jIMSp0JyjRmJ"
      },
      "source": [
        "model = BayesianModel([('age', 'DEATH_EVENT'),('smoking', 'diabetes'),('diabetes', 'DEATH_EVENT'),('high_blood_pressure', 'DEATH_EVENT'),('anaemia', 'platelets'),('anaemia', 'DEATH_EVENT')])\n",
        "\n"
      ],
      "execution_count": null,
      "outputs": []
    },
    {
      "cell_type": "code",
      "metadata": {
        "colab": {
          "base_uri": "https://localhost:8080/",
          "height": 319
        },
        "id": "6VDZxbIckf2Q",
        "outputId": "39a793c7-5099-40b2-dd8a-c9c6dd2ff6dc"
      },
      "source": [
        "import networkx as nx\n",
        "import pylab as plt\n",
        "nx.draw(model, with_labels=True)\n",
        "plt.show()"
      ],
      "execution_count": null,
      "outputs": [
        {
          "output_type": "display_data",
          "data": {
            "image/png": "[encoded data removed]",
            "text/plain": [
              "<Figure size 432x288 with 1 Axes>"
            ]
          },
          "metadata": {
            "tags": []
          }
        }
      ]
    },
    {
      "cell_type": "code",
      "metadata": {
        "colab": {
          "base_uri": "https://localhost:8080/"
        },
        "id": "Him6J-81kjMl",
        "outputId": "1b77dfaa-33cb-4571-bd73-a57ec26e3a57"
      },
      "source": [
        "model.local_independencies('anaemia')\n",
        "model.local_independencies('age')\n",
        "model.get_independencies()\n"
      ],
      "execution_count": null,
      "outputs": [
        {
          "output_type": "execute_result",
          "data": {
            "text/plain": [
              "(age _|_ high_blood_pressure, platelets, diabetes, smoking, anaemia)\n",
              "(age _|_ high_blood_pressure, diabetes, anaemia, smoking | platelets)\n",
              "(age _|_ platelets, diabetes, anaemia, smoking | high_blood_pressure)\n",
              "(age _|_ platelets, high_blood_pressure, anaemia, smoking | diabetes)\n",
              "(age _|_ platelets, high_blood_pressure, diabetes, anaemia | smoking)\n",
              "(age _|_ platelets, high_blood_pressure, diabetes, smoking | anaemia)\n",
              "(age _|_ smoking | DEATH_EVENT, diabetes)\n",
              "(age _|_ platelets | DEATH_EVENT, anaemia)\n",
              "(age _|_ diabetes, smoking, anaemia | platelets, high_blood_pressure)\n",
              "(age _|_ high_blood_pressure, smoking, anaemia | platelets, diabetes)\n",
              "(age _|_ high_blood_pressure, diabetes, anaemia | platelets, smoking)\n",
              "(age _|_ high_blood_pressure, diabetes, smoking | platelets, anaemia)\n",
              "(age _|_ platelets, smoking, anaemia | high_blood_pressure, diabetes)\n",
              "(age _|_ platelets, diabetes, anaemia | high_blood_pressure, smoking)\n",
              "(age _|_ platelets, diabetes, smoking | high_blood_pressure, anaemia)\n",
              "(age _|_ platelets, high_blood_pressure, anaemia | diabetes, smoking)\n",
              "(age _|_ platelets, high_blood_pressure, smoking | diabetes, anaemia)\n",
              "(age _|_ platelets, high_blood_pressure, diabetes | anaemia, smoking)\n",
              "(age _|_ smoking | DEATH_EVENT, platelets, diabetes)\n",
              "(age _|_ smoking | DEATH_EVENT, high_blood_pressure, diabetes)\n",
              "(age _|_ platelets | DEATH_EVENT, high_blood_pressure, anaemia)\n",
              "(age _|_ platelets, smoking | DEATH_EVENT, diabetes, anaemia)\n",
              "(age _|_ platelets | DEATH_EVENT, anaemia, smoking)\n",
              "(age _|_ smoking, anaemia | platelets, high_blood_pressure, diabetes)\n",
              "(age _|_ diabetes, anaemia | platelets, high_blood_pressure, smoking)\n",
              "(age _|_ diabetes, smoking | platelets, high_blood_pressure, anaemia)\n",
              "(age _|_ high_blood_pressure, anaemia | platelets, diabetes, smoking)\n",
              "(age _|_ high_blood_pressure, smoking | platelets, diabetes, anaemia)\n",
              "(age _|_ high_blood_pressure, diabetes | platelets, anaemia, smoking)\n",
              "(age _|_ platelets, anaemia | high_blood_pressure, diabetes, smoking)\n",
              "(age _|_ platelets, smoking | high_blood_pressure, diabetes, anaemia)\n",
              "(age _|_ platelets, diabetes | high_blood_pressure, anaemia, smoking)\n",
              "(age _|_ platelets, high_blood_pressure | diabetes, anaemia, smoking)\n",
              "(age _|_ smoking | DEATH_EVENT, platelets, high_blood_pressure, diabetes)\n",
              "(age _|_ smoking | DEATH_EVENT, platelets, diabetes, anaemia)\n",
              "(age _|_ platelets, smoking | DEATH_EVENT, high_blood_pressure, diabetes, anaemia)\n",
              "(age _|_ platelets | DEATH_EVENT, high_blood_pressure, anaemia, smoking)\n",
              "(age _|_ platelets | DEATH_EVENT, diabetes, anaemia, smoking)\n",
              "(age _|_ anaemia | platelets, high_blood_pressure, diabetes, smoking)\n",
              "(age _|_ smoking | platelets, high_blood_pressure, diabetes, anaemia)\n",
              "(age _|_ diabetes | platelets, high_blood_pressure, anaemia, smoking)\n",
              "(age _|_ high_blood_pressure | platelets, diabetes, anaemia, smoking)\n",
              "(age _|_ platelets | high_blood_pressure, diabetes, anaemia, smoking)\n",
              "(age _|_ smoking | DEATH_EVENT, platelets, high_blood_pressure, diabetes, anaemia)\n",
              "(age _|_ platelets | DEATH_EVENT, high_blood_pressure, diabetes, smoking, anaemia)\n",
              "(DEATH_EVENT _|_ platelets | anaemia)\n",
              "(DEATH_EVENT _|_ smoking | diabetes)\n",
              "(DEATH_EVENT _|_ smoking | platelets, diabetes)\n",
              "(DEATH_EVENT _|_ platelets | high_blood_pressure, anaemia)\n",
              "(DEATH_EVENT _|_ platelets, smoking | diabetes, anaemia)\n",
              "(DEATH_EVENT _|_ platelets | smoking, anaemia)\n",
              "(DEATH_EVENT _|_ platelets | age, anaemia)\n",
              "(DEATH_EVENT _|_ smoking | high_blood_pressure, diabetes)\n",
              "(DEATH_EVENT _|_ smoking | diabetes, age)\n",
              "(DEATH_EVENT _|_ smoking | platelets, diabetes, anaemia)\n",
              "(DEATH_EVENT _|_ smoking | platelets, high_blood_pressure, diabetes)\n",
              "(DEATH_EVENT _|_ smoking | platelets, diabetes, age)\n",
              "(DEATH_EVENT _|_ platelets, smoking | high_blood_pressure, diabetes, anaemia)\n",
              "(DEATH_EVENT _|_ platelets | high_blood_pressure, smoking, anaemia)\n",
              "(DEATH_EVENT _|_ platelets | age, high_blood_pressure, anaemia)\n",
              "(DEATH_EVENT _|_ platelets | diabetes, smoking, anaemia)\n",
              "(DEATH_EVENT _|_ platelets, smoking | age, diabetes, anaemia)\n",
              "(DEATH_EVENT _|_ platelets | age, smoking, anaemia)\n",
              "(DEATH_EVENT _|_ smoking | high_blood_pressure, diabetes, age)\n",
              "(DEATH_EVENT _|_ smoking | platelets, high_blood_pressure, diabetes, anaemia)\n",
              "(DEATH_EVENT _|_ smoking | platelets, age, diabetes, anaemia)\n",
              "(DEATH_EVENT _|_ smoking | platelets, high_blood_pressure, diabetes, age)\n",
              "(DEATH_EVENT _|_ platelets | high_blood_pressure, diabetes, smoking, anaemia)\n",
              "(DEATH_EVENT _|_ platelets, smoking | age, high_blood_pressure, diabetes, anaemia)\n",
              "(DEATH_EVENT _|_ platelets | age, high_blood_pressure, smoking, anaemia)\n",
              "(DEATH_EVENT _|_ platelets | age, diabetes, smoking, anaemia)\n",
              "(DEATH_EVENT _|_ smoking | platelets, anaemia, high_blood_pressure, diabetes, age)\n",
              "(DEATH_EVENT _|_ platelets | anaemia, high_blood_pressure, diabetes, smoking, age)\n",
              "(smoking _|_ platelets, high_blood_pressure, anaemia, age)\n",
              "(smoking _|_ age, high_blood_pressure, anaemia | platelets)\n",
              "(smoking _|_ platelets, high_blood_pressure, age | anaemia)\n",
              "(smoking _|_ platelets, age, anaemia | high_blood_pressure)\n",
              "(smoking _|_ platelets, high_blood_pressure, age, DEATH_EVENT, anaemia | diabetes)\n",
              "(smoking _|_ platelets, high_blood_pressure, anaemia | age)\n",
              "(smoking _|_ platelets | DEATH_EVENT, anaemia)\n",
              "(smoking _|_ platelets, high_blood_pressure, anaemia, age | DEATH_EVENT, diabetes)\n",
              "(smoking _|_ high_blood_pressure, age | platelets, anaemia)\n",
              "(smoking _|_ anaemia, age | platelets, high_blood_pressure)\n",
              "(smoking _|_ DEATH_EVENT, high_blood_pressure, anaemia, age | platelets, diabetes)\n",
              "(smoking _|_ high_blood_pressure, anaemia | platelets, age)\n",
              "(smoking _|_ platelets, age | high_blood_pressure, anaemia)\n",
              "(smoking _|_ DEATH_EVENT, platelets, high_blood_pressure, age | diabetes, anaemia)\n",
              "(smoking _|_ platelets, high_blood_pressure | age, anaemia)\n",
              "(smoking _|_ DEATH_EVENT, platelets, anaemia, age | high_blood_pressure, diabetes)\n",
              "(smoking _|_ platelets, anaemia | high_blood_pressure, age)\n",
              "(smoking _|_ DEATH_EVENT, platelets, high_blood_pressure, anaemia | diabetes, age)\n",
              "(smoking _|_ high_blood_pressure, anaemia, age | DEATH_EVENT, platelets, diabetes)\n",
              "(smoking _|_ platelets | DEATH_EVENT, high_blood_pressure, anaemia)\n",
              "(smoking _|_ platelets, high_blood_pressure, age | DEATH_EVENT, diabetes, anaemia)\n",
              "(smoking _|_ platelets | DEATH_EVENT, age, anaemia)\n",
              "(smoking _|_ platelets, anaemia, age | DEATH_EVENT, high_blood_pressure, diabetes)\n",
              "(smoking _|_ platelets, high_blood_pressure, anaemia | DEATH_EVENT, diabetes, age)\n",
              "(smoking _|_ age | platelets, high_blood_pressure, anaemia)\n",
              "(smoking _|_ DEATH_EVENT, high_blood_pressure, age | platelets, diabetes, anaemia)\n",
              "(smoking _|_ high_blood_pressure | platelets, age, anaemia)\n",
              "(smoking _|_ DEATH_EVENT, anaemia, age | platelets, high_blood_pressure, diabetes)\n",
              "(smoking _|_ anaemia | platelets, high_blood_pressure, age)\n",
              "(smoking _|_ DEATH_EVENT, high_blood_pressure, anaemia | platelets, diabetes, age)\n",
              "(smoking _|_ DEATH_EVENT, platelets, age | high_blood_pressure, diabetes, anaemia)\n",
              "(smoking _|_ platelets | age, high_blood_pressure, anaemia)\n",
              "(smoking _|_ DEATH_EVENT, platelets, high_blood_pressure | age, diabetes, anaemia)\n",
              "(smoking _|_ DEATH_EVENT, platelets, anaemia | high_blood_pressure, diabetes, age)\n",
              "(smoking _|_ high_blood_pressure, age | DEATH_EVENT, platelets, diabetes, anaemia)\n",
              "(smoking _|_ anaemia, age | DEATH_EVENT, platelets, high_blood_pressure, diabetes)\n",
              "(smoking _|_ high_blood_pressure, anaemia | DEATH_EVENT, platelets, diabetes, age)\n",
              "(smoking _|_ platelets, age | DEATH_EVENT, high_blood_pressure, diabetes, anaemia)\n",
              "(smoking _|_ platelets | DEATH_EVENT, age, high_blood_pressure, anaemia)\n",
              "(smoking _|_ platelets, high_blood_pressure | DEATH_EVENT, age, diabetes, anaemia)\n",
              "(smoking _|_ platelets, anaemia | DEATH_EVENT, high_blood_pressure, diabetes, age)\n",
              "(smoking _|_ DEATH_EVENT, age | platelets, high_blood_pressure, diabetes, anaemia)\n",
              "(smoking _|_ DEATH_EVENT, high_blood_pressure | platelets, age, diabetes, anaemia)\n",
              "(smoking _|_ DEATH_EVENT, anaemia | platelets, high_blood_pressure, diabetes, age)\n",
              "(smoking _|_ DEATH_EVENT, platelets | age, high_blood_pressure, diabetes, anaemia)\n",
              "(smoking _|_ age | DEATH_EVENT, platelets, high_blood_pressure, diabetes, anaemia)\n",
              "(smoking _|_ high_blood_pressure | DEATH_EVENT, platelets, anaemia, diabetes, age)\n",
              "(smoking _|_ anaemia | DEATH_EVENT, platelets, high_blood_pressure, diabetes, age)\n",
              "(smoking _|_ platelets | DEATH_EVENT, anaemia, high_blood_pressure, diabetes, age)\n",
              "(smoking _|_ DEATH_EVENT | platelets, anaemia, high_blood_pressure, diabetes, age)\n",
              "(diabetes _|_ platelets, high_blood_pressure, anaemia, age)\n",
              "(diabetes _|_ age, high_blood_pressure, anaemia | platelets)\n",
              "(diabetes _|_ platelets, high_blood_pressure, age | anaemia)\n",
              "(diabetes _|_ platelets, age, anaemia | high_blood_pressure)\n",
              "(diabetes _|_ platelets, age, high_blood_pressure, anaemia | smoking)\n",
              "(diabetes _|_ platelets, high_blood_pressure, anaemia | age)\n",
              "(diabetes _|_ platelets | DEATH_EVENT, anaemia)\n",
              "(diabetes _|_ high_blood_pressure, age | platelets, anaemia)\n",
              "(diabetes _|_ anaemia, age | platelets, high_blood_pressure)\n",
              "(diabetes _|_ high_blood_pressure, anaemia, age | platelets, smoking)\n",
              "(diabetes _|_ high_blood_pressure, anaemia | platelets, age)\n",
              "(diabetes _|_ platelets, age | high_blood_pressure, anaemia)\n",
              "(diabetes _|_ platelets, high_blood_pressure, age | smoking, anaemia)\n",
              "(diabetes _|_ platelets, high_blood_pressure | age, anaemia)\n",
              "(diabetes _|_ platelets, anaemia, age | high_blood_pressure, smoking)\n",
              "(diabetes _|_ platelets, anaemia | high_blood_pressure, age)\n",
              "(diabetes _|_ platelets, high_blood_pressure, anaemia | age, smoking)\n",
              "(diabetes _|_ platelets | DEATH_EVENT, high_blood_pressure, anaemia)\n",
              "(diabetes _|_ platelets | DEATH_EVENT, smoking, anaemia)\n",
              "(diabetes _|_ platelets | DEATH_EVENT, age, anaemia)\n",
              "(diabetes _|_ age | platelets, high_blood_pressure, anaemia)\n",
              "(diabetes _|_ high_blood_pressure, age | platelets, smoking, anaemia)\n",
              "(diabetes _|_ high_blood_pressure | platelets, age, anaemia)\n",
              "(diabetes _|_ anaemia, age | platelets, high_blood_pressure, smoking)\n",
              "(diabetes _|_ anaemia | platelets, high_blood_pressure, age)\n",
              "(diabetes _|_ high_blood_pressure, anaemia | platelets, age, smoking)\n",
              "(diabetes _|_ platelets, age | high_blood_pressure, smoking, anaemia)\n",
              "(diabetes _|_ platelets | age, high_blood_pressure, anaemia)\n",
              "(diabetes _|_ platelets, high_blood_pressure | age, smoking, anaemia)\n",
              "(diabetes _|_ platelets, anaemia | age, high_blood_pressure, smoking)\n",
              "(diabetes _|_ platelets | DEATH_EVENT, high_blood_pressure, smoking, anaemia)\n",
              "(diabetes _|_ platelets | DEATH_EVENT, age, high_blood_pressure, anaemia)\n",
              "(diabetes _|_ platelets | DEATH_EVENT, age, smoking, anaemia)\n",
              "(diabetes _|_ age | platelets, high_blood_pressure, smoking, anaemia)\n",
              "(diabetes _|_ high_blood_pressure | platelets, age, smoking, anaemia)\n",
              "(diabetes _|_ anaemia | platelets, age, high_blood_pressure, smoking)\n",
              "(diabetes _|_ platelets | age, high_blood_pressure, smoking, anaemia)\n",
              "(diabetes _|_ platelets | DEATH_EVENT, anaemia, high_blood_pressure, smoking, age)\n",
              "(high_blood_pressure _|_ platelets, diabetes, anaemia, smoking, age)\n",
              "(high_blood_pressure _|_ age, diabetes, smoking, anaemia | platelets)\n",
              "(high_blood_pressure _|_ platelets, age, diabetes, smoking | anaemia)\n",
              "(high_blood_pressure _|_ platelets, age, smoking, anaemia | diabetes)\n",
              "(high_blood_pressure _|_ platelets, age, diabetes, anaemia | smoking)\n",
              "(high_blood_pressure _|_ platelets, diabetes, smoking, anaemia | age)\n",
              "(high_blood_pressure _|_ platelets | DEATH_EVENT, anaemia)\n",
              "(high_blood_pressure _|_ smoking | DEATH_EVENT, diabetes)\n",
              "(high_blood_pressure _|_ diabetes, smoking, age | platelets, anaemia)\n",
              "(high_blood_pressure _|_ anaemia, smoking, age | platelets, diabetes)\n",
              "(high_blood_pressure _|_ diabetes, anaemia, age | platelets, smoking)\n",
              "(high_blood_pressure _|_ diabetes, anaemia, smoking | platelets, age)\n",
              "(high_blood_pressure _|_ platelets, smoking, age | diabetes, anaemia)\n",
              "(high_blood_pressure _|_ platelets, diabetes, age | smoking, anaemia)\n",
              "(high_blood_pressure _|_ platelets, diabetes, smoking | age, anaemia)\n",
              "(high_blood_pressure _|_ platelets, anaemia, age | diabetes, smoking)\n",
              "(high_blood_pressure _|_ platelets, anaemia, smoking | diabetes, age)\n",
              "(high_blood_pressure _|_ platelets, diabetes, anaemia | age, smoking)\n",
              "(high_blood_pressure _|_ smoking | DEATH_EVENT, platelets, diabetes)\n",
              "(high_blood_pressure _|_ platelets, smoking | DEATH_EVENT, diabetes, anaemia)\n",
              "(high_blood_pressure _|_ platelets | DEATH_EVENT, smoking, anaemia)\n",
              "(high_blood_pressure _|_ platelets | DEATH_EVENT, age, anaemia)\n",
              "(high_blood_pressure _|_ smoking | DEATH_EVENT, diabetes, age)\n",
              "(high_blood_pressure _|_ smoking, age | platelets, diabetes, anaemia)\n",
              "(high_blood_pressure _|_ diabetes, age | platelets, smoking, anaemia)\n",
              "(high_blood_pressure _|_ diabetes, smoking | platelets, age, anaemia)\n",
              "(high_blood_pressure _|_ anaemia, age | platelets, diabetes, smoking)\n",
              "(high_blood_pressure _|_ anaemia, smoking | platelets, diabetes, age)\n",
              "(high_blood_pressure _|_ diabetes, anaemia | platelets, age, smoking)\n",
              "(high_blood_pressure _|_ platelets, age | diabetes, smoking, anaemia)\n",
              "(high_blood_pressure _|_ platelets, smoking | age, diabetes, anaemia)\n",
              "(high_blood_pressure _|_ platelets, diabetes | age, smoking, anaemia)\n",
              "(high_blood_pressure _|_ platelets, anaemia | age, diabetes, smoking)\n",
              "(high_blood_pressure _|_ smoking | DEATH_EVENT, platelets, diabetes, anaemia)\n",
              "(high_blood_pressure _|_ smoking | DEATH_EVENT, platelets, diabetes, age)\n",
              "(high_blood_pressure _|_ platelets | DEATH_EVENT, diabetes, smoking, anaemia)\n",
              "(high_blood_pressure _|_ platelets, smoking | DEATH_EVENT, age, diabetes, anaemia)\n",
              "(high_blood_pressure _|_ platelets | DEATH_EVENT, age, smoking, anaemia)\n",
              "(high_blood_pressure _|_ age | platelets, diabetes, smoking, anaemia)\n",
              "(high_blood_pressure _|_ smoking | platelets, age, diabetes, anaemia)\n",
              "(high_blood_pressure _|_ diabetes | platelets, age, smoking, anaemia)\n",
              "(high_blood_pressure _|_ anaemia | platelets, age, diabetes, smoking)\n",
              "(high_blood_pressure _|_ platelets | age, diabetes, smoking, anaemia)\n",
              "(high_blood_pressure _|_ smoking | DEATH_EVENT, platelets, anaemia, diabetes, age)\n",
              "(high_blood_pressure _|_ platelets | DEATH_EVENT, anaemia, diabetes, smoking, age)\n",
              "(anaemia _|_ high_blood_pressure, diabetes, smoking, age)\n",
              "(anaemia _|_ age, high_blood_pressure, diabetes, smoking | platelets)\n",
              "(anaemia _|_ age, diabetes, smoking | high_blood_pressure)\n",
              "(anaemia _|_ age, high_blood_pressure, smoking | diabetes)\n",
              "(anaemia _|_ high_blood_pressure, diabetes, age | smoking)\n",
              "(anaemia _|_ high_blood_pressure, diabetes, smoking | age)\n",
              "(anaemia _|_ smoking | DEATH_EVENT, diabetes)\n",
              "(anaemia _|_ diabetes, smoking, age | platelets, high_blood_pressure)\n",
              "(anaemia _|_ high_blood_pressure, smoking, age | platelets, diabetes)\n",
              "(anaemia _|_ high_blood_pressure, diabetes, age | platelets, smoking)\n",
              "(anaemia _|_ high_blood_pressure, diabetes, smoking | platelets, age)\n",
              "(anaemia _|_ smoking, age | high_blood_pressure, diabetes)\n",
              "(anaemia _|_ diabetes, age | high_blood_pressure, smoking)\n",
              "(anaemia _|_ diabetes, smoking | high_blood_pressure, age)\n",
              "(anaemia _|_ high_blood_pressure, age | diabetes, smoking)\n",
              "(anaemia _|_ high_blood_pressure, smoking | diabetes, age)\n",
              "(anaemia _|_ high_blood_pressure, diabetes | age, smoking)\n",
              "(anaemia _|_ smoking | DEATH_EVENT, platelets, diabetes)\n",
              "(anaemia _|_ smoking | DEATH_EVENT, high_blood_pressure, diabetes)\n",
              "(anaemia _|_ smoking | DEATH_EVENT, diabetes, age)\n",
              "(anaemia _|_ smoking, age | platelets, high_blood_pressure, diabetes)\n",
              "(anaemia _|_ diabetes, age | platelets, high_blood_pressure, smoking)\n",
              "(anaemia _|_ diabetes, smoking | platelets, high_blood_pressure, age)\n",
              "(anaemia _|_ high_blood_pressure, age | platelets, diabetes, smoking)\n",
              "(anaemia _|_ high_blood_pressure, smoking | platelets, diabetes, age)\n",
              "(anaemia _|_ high_blood_pressure, diabetes | platelets, age, smoking)\n",
              "(anaemia _|_ age | high_blood_pressure, diabetes, smoking)\n",
              "(anaemia _|_ smoking | high_blood_pressure, diabetes, age)\n",
              "(anaemia _|_ diabetes | age, high_blood_pressure, smoking)\n",
              "(anaemia _|_ high_blood_pressure | age, diabetes, smoking)\n",
              "(anaemia _|_ smoking | DEATH_EVENT, platelets, high_blood_pressure, diabetes)\n",
              "(anaemia _|_ smoking | DEATH_EVENT, platelets, diabetes, age)\n",
              "(anaemia _|_ smoking | DEATH_EVENT, high_blood_pressure, diabetes, age)\n",
              "(anaemia _|_ age | platelets, high_blood_pressure, diabetes, smoking)\n",
              "(anaemia _|_ smoking | platelets, high_blood_pressure, diabetes, age)\n",
              "(anaemia _|_ diabetes | platelets, age, high_blood_pressure, smoking)\n",
              "(anaemia _|_ high_blood_pressure | platelets, age, diabetes, smoking)\n",
              "(anaemia _|_ smoking | DEATH_EVENT, platelets, high_blood_pressure, diabetes, age)\n",
              "(platelets _|_ high_blood_pressure, diabetes, smoking, age)\n",
              "(platelets _|_ age, high_blood_pressure, DEATH_EVENT, diabetes, smoking | anaemia)\n",
              "(platelets _|_ age, diabetes, smoking | high_blood_pressure)\n",
              "(platelets _|_ age, high_blood_pressure, smoking | diabetes)\n",
              "(platelets _|_ high_blood_pressure, diabetes, age | smoking)\n",
              "(platelets _|_ high_blood_pressure, diabetes, smoking | age)\n",
              "(platelets _|_ high_blood_pressure, diabetes, smoking, age | DEATH_EVENT, anaemia)\n",
              "(platelets _|_ smoking | DEATH_EVENT, diabetes)\n",
              "(platelets _|_ DEATH_EVENT, diabetes, smoking, age | high_blood_pressure, anaemia)\n",
              "(platelets _|_ DEATH_EVENT, high_blood_pressure, smoking, age | diabetes, anaemia)\n",
              "(platelets _|_ DEATH_EVENT, high_blood_pressure, diabetes, age | smoking, anaemia)\n",
              "(platelets _|_ DEATH_EVENT, high_blood_pressure, diabetes, smoking | age, anaemia)\n",
              "(platelets _|_ smoking, age | high_blood_pressure, diabetes)\n",
              "(platelets _|_ diabetes, age | high_blood_pressure, smoking)\n",
              "(platelets _|_ diabetes, smoking | high_blood_pressure, age)\n",
              "(platelets _|_ high_blood_pressure, age | diabetes, smoking)\n",
              "(platelets _|_ high_blood_pressure, smoking | diabetes, age)\n",
              "(platelets _|_ high_blood_pressure, diabetes | age, smoking)\n",
              "(platelets _|_ diabetes, smoking, age | DEATH_EVENT, high_blood_pressure, anaemia)\n",
              "(platelets _|_ high_blood_pressure, smoking, age | DEATH_EVENT, diabetes, anaemia)\n",
              "(platelets _|_ high_blood_pressure, diabetes, age | DEATH_EVENT, smoking, anaemia)\n",
              "(platelets _|_ high_blood_pressure, diabetes, smoking | DEATH_EVENT, age, anaemia)\n",
              "(platelets _|_ smoking | DEATH_EVENT, high_blood_pressure, diabetes)\n",
              "(platelets _|_ smoking | DEATH_EVENT, diabetes, age)\n",
              "(platelets _|_ DEATH_EVENT, smoking, age | high_blood_pressure, diabetes, anaemia)\n",
              "(platelets _|_ DEATH_EVENT, diabetes, age | high_blood_pressure, smoking, anaemia)\n",
              "(platelets _|_ DEATH_EVENT, diabetes, smoking | age, high_blood_pressure, anaemia)\n",
              "(platelets _|_ DEATH_EVENT, high_blood_pressure, age | diabetes, smoking, anaemia)\n",
              "(platelets _|_ DEATH_EVENT, high_blood_pressure, smoking | age, diabetes, anaemia)\n",
              "(platelets _|_ DEATH_EVENT, high_blood_pressure, diabetes | age, smoking, anaemia)\n",
              "(platelets _|_ age | high_blood_pressure, diabetes, smoking)\n",
              "(platelets _|_ smoking | high_blood_pressure, diabetes, age)\n",
              "(platelets _|_ diabetes | age, high_blood_pressure, smoking)\n",
              "(platelets _|_ high_blood_pressure | age, diabetes, smoking)\n",
              "(platelets _|_ smoking, age | DEATH_EVENT, high_blood_pressure, diabetes, anaemia)\n",
              "(platelets _|_ diabetes, age | DEATH_EVENT, high_blood_pressure, smoking, anaemia)\n",
              "(platelets _|_ diabetes, smoking | DEATH_EVENT, age, high_blood_pressure, anaemia)\n",
              "(platelets _|_ high_blood_pressure, age | DEATH_EVENT, diabetes, smoking, anaemia)\n",
              "(platelets _|_ high_blood_pressure, smoking | DEATH_EVENT, age, diabetes, anaemia)\n",
              "(platelets _|_ high_blood_pressure, diabetes | DEATH_EVENT, age, smoking, anaemia)\n",
              "(platelets _|_ smoking | DEATH_EVENT, high_blood_pressure, diabetes, age)\n",
              "(platelets _|_ DEATH_EVENT, age | high_blood_pressure, diabetes, smoking, anaemia)\n",
              "(platelets _|_ DEATH_EVENT, smoking | age, high_blood_pressure, diabetes, anaemia)\n",
              "(platelets _|_ DEATH_EVENT, diabetes | age, high_blood_pressure, smoking, anaemia)\n",
              "(platelets _|_ DEATH_EVENT, high_blood_pressure | age, diabetes, smoking, anaemia)\n",
              "(platelets _|_ age | DEATH_EVENT, anaemia, high_blood_pressure, diabetes, smoking)\n",
              "(platelets _|_ smoking | DEATH_EVENT, anaemia, high_blood_pressure, diabetes, age)\n",
              "(platelets _|_ diabetes | DEATH_EVENT, anaemia, high_blood_pressure, smoking, age)\n",
              "(platelets _|_ high_blood_pressure | DEATH_EVENT, anaemia, diabetes, smoking, age)\n",
              "(platelets _|_ DEATH_EVENT | anaemia, high_blood_pressure, diabetes, smoking, age)"
            ]
          },
          "metadata": {
            "tags": []
          },
          "execution_count": 8
        }
      ]
    },
    {
      "cell_type": "code",
      "metadata": {
        "colab": {
          "base_uri": "https://localhost:8080/"
        },
        "id": "dtlBOBb0koNo",
        "outputId": "f8dbd577-0fd1-4fdb-941c-643a5bb26c13"
      },
      "source": [
        "print('\\nLearning CPDs using Maximum Likelihood Estimators...');\n",
        "# Learing CPDs using Maximum Likelihood Estimators \n",
        "model.fit(heartfailure, estimator=MaximumLikelihoodEstimator) \n",
        "for cpd in model.get_cpds():\n",
        "    print(\"CPD of {variable}:\".format(variable=cpd.variable))\n"
      ],
      "execution_count": null,
      "outputs": [
        {
          "output_type": "stream",
          "text": [
            "\n",
            "Learning CPDs using Maximum Likelihood Estimators...\n",
            "CPD of DEATH_EVENT:\n",
            "CPD of age:\n",
            "CPD of anaemia:\n",
            "CPD of diabetes:\n",
            "CPD of high_blood_pressure:\n",
            "CPD of platelets:\n",
            "CPD of smoking:\n"
          ],
          "name": "stdout"
        }
      ]
    },
    {
      "cell_type": "code",
      "metadata": {
        "colab": {
          "base_uri": "https://localhost:8080/"
        },
        "id": "4fOBRNqUkqR8",
        "outputId": "000b2879-a8a9-4c3a-a524-9db98c3e2492"
      },
      "source": [
        "print(model.get_cpds('age'))\n",
        "\n",
        "print(model.get_cpds('smoking'))\n",
        "\n",
        "print(model.get_cpds('high_blood_pressure'))\n",
        "\n"
      ],
      "execution_count": null,
      "outputs": [
        {
          "output_type": "stream",
          "text": [
            "+-------------+------------+\n",
            "| age(40.0)   | 0.0234114  |\n",
            "+-------------+------------+\n",
            "| age(41.0)   | 0.00334448 |\n",
            "+-------------+------------+\n",
            "| age(42.0)   | 0.0234114  |\n",
            "+-------------+------------+\n",
            "| age(43.0)   | 0.00334448 |\n",
            "+-------------+------------+\n",
            "| age(44.0)   | 0.00668896 |\n",
            "+-------------+------------+\n",
            "| age(45.0)   | 0.0635452  |\n",
            "+-------------+------------+\n",
            "| age(46.0)   | 0.0100334  |\n",
            "+-------------+------------+\n",
            "| age(47.0)   | 0.00334448 |\n",
            "+-------------+------------+\n",
            "| age(48.0)   | 0.00668896 |\n",
            "+-------------+------------+\n",
            "| age(49.0)   | 0.0133779  |\n",
            "+-------------+------------+\n",
            "| age(50.0)   | 0.090301   |\n",
            "+-------------+------------+\n",
            "| age(51.0)   | 0.0133779  |\n",
            "+-------------+------------+\n",
            "| age(52.0)   | 0.0167224  |\n",
            "+-------------+------------+\n",
            "| age(53.0)   | 0.0334448  |\n",
            "+-------------+------------+\n",
            "| age(54.0)   | 0.00668896 |\n",
            "+-------------+------------+\n",
            "| age(55.0)   | 0.0568562  |\n",
            "+-------------+------------+\n",
            "| age(56.0)   | 0.00334448 |\n",
            "+-------------+------------+\n",
            "| age(57.0)   | 0.00668896 |\n",
            "+-------------+------------+\n",
            "| age(58.0)   | 0.0334448  |\n",
            "+-------------+------------+\n",
            "| age(59.0)   | 0.0133779  |\n",
            "+-------------+------------+\n",
            "| age(60.0)   | 0.110368   |\n",
            "+-------------+------------+\n",
            "| age(60.667) | 0.00668896 |\n",
            "+-------------+------------+\n",
            "| age(61.0)   | 0.0133779  |\n",
            "+-------------+------------+\n",
            "| age(62.0)   | 0.0167224  |\n",
            "+-------------+------------+\n",
            "| age(63.0)   | 0.0267559  |\n",
            "+-------------+------------+\n",
            "| age(64.0)   | 0.0100334  |\n",
            "+-------------+------------+\n",
            "| age(65.0)   | 0.0869565  |\n",
            "+-------------+------------+\n",
            "| age(66.0)   | 0.00668896 |\n",
            "+-------------+------------+\n",
            "| age(67.0)   | 0.00668896 |\n",
            "+-------------+------------+\n",
            "| age(68.0)   | 0.0167224  |\n",
            "+-------------+------------+\n",
            "| age(69.0)   | 0.0100334  |\n",
            "+-------------+------------+\n",
            "| age(70.0)   | 0.083612   |\n",
            "+-------------+------------+\n",
            "| age(72.0)   | 0.0234114  |\n",
            "+-------------+------------+\n",
            "| age(73.0)   | 0.0133779  |\n",
            "+-------------+------------+\n",
            "| age(75.0)   | 0.0367893  |\n",
            "+-------------+------------+\n",
            "| age(77.0)   | 0.00668896 |\n",
            "+-------------+------------+\n",
            "| age(78.0)   | 0.00668896 |\n",
            "+-------------+------------+\n",
            "| age(79.0)   | 0.00334448 |\n",
            "+-------------+------------+\n",
            "| age(80.0)   | 0.0234114  |\n",
            "+-------------+------------+\n",
            "| age(81.0)   | 0.00334448 |\n",
            "+-------------+------------+\n",
            "| age(82.0)   | 0.0100334  |\n",
            "+-------------+------------+\n",
            "| age(85.0)   | 0.0200669  |\n",
            "+-------------+------------+\n",
            "| age(86.0)   | 0.00334448 |\n",
            "+-------------+------------+\n",
            "| age(87.0)   | 0.00334448 |\n",
            "+-------------+------------+\n",
            "| age(90.0)   | 0.0100334  |\n",
            "+-------------+------------+\n",
            "| age(94.0)   | 0.00334448 |\n",
            "+-------------+------------+\n",
            "| age(95.0)   | 0.00668896 |\n",
            "+-------------+------------+\n",
            "+------------+---------+\n",
            "| smoking(0) | 0.67893 |\n",
            "+------------+---------+\n",
            "| smoking(1) | 0.32107 |\n",
            "+------------+---------+\n",
            "+------------------------+----------+\n",
            "| high_blood_pressure(0) | 0.648829 |\n",
            "+------------------------+----------+\n",
            "| high_blood_pressure(1) | 0.351171 |\n",
            "+------------------------+----------+\n"
          ],
          "name": "stdout"
        }
      ]
    },
    {
      "cell_type": "code",
      "metadata": {
        "colab": {
          "base_uri": "https://localhost:8080/"
        },
        "id": "Qw60XyVZkt4a",
        "outputId": "786cb0e2-16bf-4146-a496-5d4fa99fba22"
      },
      "source": [
        "print('\\nInferencing with Bayesian Network:')\n",
        "HeartFailure_infer = VariableElimination(model)\n"
      ],
      "execution_count": null,
      "outputs": [
        {
          "output_type": "stream",
          "text": [
            "\n",
            "Inferencing with Bayesian Network:\n"
          ],
          "name": "stdout"
        }
      ]
    },
    {
      "cell_type": "code",
      "metadata": {
        "colab": {
          "base_uri": "https://localhost:8080/"
        },
        "id": "xMJSCqdykxhK",
        "outputId": "bcf42948-6392-4ee7-b579-ae9abf70de78"
      },
      "source": [
        "print('\\n1.Probability of Heartfailure given diabetes:0')\n",
        "q = HeartFailure_infer.query(variables=['DEATH_EVENT'],evidence={'diabetes':0,'smoking':1})\n",
        "print(q)"
      ],
      "execution_count": null,
      "outputs": [
        {
          "output_type": "stream",
          "text": [
            "Finding Elimination Order: : 100%|██████████| 4/4 [00:00<00:00, 639.67it/s]\n",
            "Eliminating: anaemia: 100%|██████████| 4/4 [00:00<00:00, 301.92it/s]"
          ],
          "name": "stderr"
        },
        {
          "output_type": "stream",
          "text": [
            "\n",
            "1.Probability of Heartfailure given diabetes:0\n",
            "+----------------+--------------------+\n",
            "| DEATH_EVENT    |   phi(DEATH_EVENT) |\n",
            "+================+====================+\n",
            "| DEATH_EVENT(0) |             0.6540 |\n",
            "+----------------+--------------------+\n",
            "| DEATH_EVENT(1) |             0.3460 |\n",
            "+----------------+--------------------+\n"
          ],
          "name": "stdout"
        },
        {
          "output_type": "stream",
          "text": [
            "\n"
          ],
          "name": "stderr"
        }
      ]
    },
    {
      "cell_type": "code",
      "metadata": {
        "id": "Aqp8ftnDm_9Z"
      },
      "source": [
        ""
      ],
      "execution_count": null,
      "outputs": []
    }
  ]
}