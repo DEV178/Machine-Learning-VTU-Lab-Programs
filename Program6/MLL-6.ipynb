{
 "cells": [
  {
   "cell_type": "code",
   "execution_count": 1,
   "metadata": {},
   "outputs": [
    {
     "name": "stdout",
     "output_type": "stream",
     "text": [
      "The dimensions of the dataset (18, 2)\n"
     ]
    }
   ],
   "source": [
    "import pandas as pd\n",
    "msg=pd.read_csv('naivetext.txt',names=['message','label'])\n",
    "print('The dimensions of the dataset',msg.shape)"
   ]
  },
  {
   "cell_type": "code",
   "execution_count": 19,
   "metadata": {},
   "outputs": [
    {
     "name": "stdout",
     "output_type": "stream",
     "text": [
      "0                      I love this sandwich\n",
      "1                  This is an amazing place\n",
      "2        I feel very good about these beers\n",
      "3                      This is my best work\n",
      "4                      What an awesome view\n",
      "5             I do not like this restaurant\n",
      "6                  I am tired of this stuff\n",
      "7                    I can't deal with this\n",
      "8                      He is my sworn enemy\n",
      "9                       My boss is horrible\n",
      "10                 This is an awesome place\n",
      "11    I do not like the taste of this juice\n",
      "12                          I love to dance\n",
      "13        I am sick and tired of this place\n",
      "14                     What a great holiday\n",
      "15           That is a bad locality to stay\n",
      "16           We will have good fun tomorrow\n",
      "17         I went to my enemy's house today\n",
      "Name: message, dtype: object\n"
     ]
    }
   ],
   "source": [
    "msg['labelnum']=msg.label.map({'pos':1,'neg':0})\n",
    "X=msg.message\n",
    "y=msg.labelnum\n",
    "print(X)"
   ]
  },
  {
   "cell_type": "code",
   "execution_count": 20,
   "metadata": {},
   "outputs": [
    {
     "name": "stdout",
     "output_type": "stream",
     "text": [
      "0     1\n",
      "1     1\n",
      "2     1\n",
      "3     1\n",
      "4     1\n",
      "5     0\n",
      "6     0\n",
      "7     0\n",
      "8     0\n",
      "9     0\n",
      "10    1\n",
      "11    0\n",
      "12    1\n",
      "13    0\n",
      "14    1\n",
      "15    0\n",
      "16    1\n",
      "17    0\n",
      "Name: labelnum, dtype: int64\n"
     ]
    }
   ],
   "source": [
    "print(y)"
   ]
  },
  {
   "cell_type": "code",
   "execution_count": 21,
   "metadata": {},
   "outputs": [
    {
     "name": "stdout",
     "output_type": "stream",
     "text": [
      "(5,)\n",
      "(13,)\n",
      "(5,)\n",
      "(13,)\n"
     ]
    }
   ],
   "source": [
    "#splitting the dataset into train and test data\n",
    "from sklearn.model_selection import train_test_split\n",
    "xtrain,xtest,ytrain,ytest=train_test_split(X,y)\n",
    "print(xtest.shape)\n",
    "print(xtrain.shape)\n",
    "print(ytest.shape)\n",
    "print(ytrain.shape)"
   ]
  },
  {
   "cell_type": "code",
   "execution_count": 22,
   "metadata": {},
   "outputs": [
    {
     "name": "stdout",
     "output_type": "stream",
     "text": [
      "['about', 'am', 'amazing', 'an', 'awesome', 'bad', 'beers', 'best', 'boss', 'can', 'dance', 'deal', 'do', 'feel', 'fun', 'good', 'great', 'have', 'holiday', 'horrible', 'is', 'like', 'locality', 'love', 'my', 'not', 'of', 'place', 'restaurant', 'sandwich', 'stay', 'stuff', 'that', 'these', 'this', 'tired', 'to', 'tomorrow', 'very', 'view', 'we', 'what', 'will', 'with', 'work']\n"
     ]
    }
   ],
   "source": [
    "#output of count vectoriser is a sparse matrix\n",
    "from sklearn.feature_extraction.text import CountVectorizer\n",
    "count_vect = CountVectorizer()\n",
    "xtrain_dtm = count_vect.fit_transform(xtrain)\n",
    "xtest_dtm=count_vect.transform(xtest)\n",
    "print(count_vect.get_feature_names())"
   ]
  },
  {
   "cell_type": "code",
   "execution_count": 23,
   "metadata": {},
   "outputs": [
    {
     "name": "stdout",
     "output_type": "stream",
     "text": [
      "    about  am  amazing  an  awesome  bad  beers  best  boss  can  ...  tired  \\\n",
      "0       0   0        0   1        1    0      0     0     0    0  ...      0   \n",
      "1       0   0        0   0        0    0      0     0     0    0  ...      0   \n",
      "2       0   1        0   0        0    0      0     0     0    0  ...      1   \n",
      "3       0   0        0   0        0    0      0     0     0    0  ...      0   \n",
      "4       0   0        0   0        0    0      0     0     0    0  ...      0   \n",
      "5       0   0        1   1        0    0      0     0     0    0  ...      0   \n",
      "6       0   0        0   0        0    0      0     0     1    0  ...      0   \n",
      "7       0   0        0   0        0    0      0     0     0    1  ...      0   \n",
      "8       1   0        0   0        0    0      1     0     0    0  ...      0   \n",
      "9       0   0        0   0        0    0      0     0     0    0  ...      0   \n",
      "10      0   0        0   0        0    1      0     0     0    0  ...      0   \n",
      "11      0   0        0   0        0    0      0     0     0    0  ...      0   \n",
      "12      0   0        0   0        0    0      0     1     0    0  ...      0   \n",
      "\n",
      "    to  tomorrow  very  view  we  what  will  with  work  \n",
      "0    0         0     0     1   0     1     0     0     0  \n",
      "1    1         0     0     0   0     0     0     0     0  \n",
      "2    0         0     0     0   0     0     0     0     0  \n",
      "3    0         0     0     0   0     0     0     0     0  \n",
      "4    0         1     0     0   1     0     1     0     0  \n",
      "5    0         0     0     0   0     0     0     0     0  \n",
      "6    0         0     0     0   0     0     0     0     0  \n",
      "7    0         0     0     0   0     0     0     1     0  \n",
      "8    0         0     1     0   0     0     0     0     0  \n",
      "9    0         0     0     0   0     0     0     0     0  \n",
      "10   1         0     0     0   0     0     0     0     0  \n",
      "11   0         0     0     0   0     1     0     0     0  \n",
      "12   0         0     0     0   0     0     0     0     1  \n",
      "\n",
      "[13 rows x 45 columns]\n",
      "  (0, 41)\t1\n",
      "  (0, 3)\t1\n",
      "  (0, 4)\t1\n",
      "  (0, 39)\t1\n",
      "  (1, 23)\t1\n",
      "  (1, 36)\t1\n",
      "  (1, 10)\t1\n",
      "  (2, 1)\t1\n",
      "  (2, 35)\t1\n",
      "  (2, 26)\t1\n",
      "  (2, 34)\t1\n",
      "  (2, 31)\t1\n",
      "  (3, 23)\t1\n",
      "  (3, 34)\t1\n",
      "  (3, 29)\t1\n",
      "  (4, 40)\t1\n",
      "  (4, 42)\t1\n",
      "  (4, 17)\t1\n",
      "  (4, 15)\t1\n",
      "  (4, 14)\t1\n",
      "  (4, 37)\t1\n",
      "  (5, 3)\t1\n",
      "  (5, 34)\t1\n",
      "  (5, 20)\t1\n",
      "  (5, 2)\t1\n",
      "  :\t:\n",
      "  (8, 15)\t1\n",
      "  (8, 13)\t1\n",
      "  (8, 38)\t1\n",
      "  (8, 0)\t1\n",
      "  (8, 33)\t1\n",
      "  (8, 6)\t1\n",
      "  (9, 34)\t1\n",
      "  (9, 12)\t1\n",
      "  (9, 25)\t1\n",
      "  (9, 21)\t1\n",
      "  (9, 28)\t1\n",
      "  (10, 36)\t1\n",
      "  (10, 20)\t1\n",
      "  (10, 32)\t1\n",
      "  (10, 5)\t1\n",
      "  (10, 22)\t1\n",
      "  (10, 30)\t1\n",
      "  (11, 41)\t1\n",
      "  (11, 16)\t1\n",
      "  (11, 18)\t1\n",
      "  (12, 34)\t1\n",
      "  (12, 20)\t1\n",
      "  (12, 24)\t1\n",
      "  (12, 7)\t1\n",
      "  (12, 44)\t1\n"
     ]
    }
   ],
   "source": [
    "df=pd.DataFrame(xtrain_dtm.toarray(),columns=count_vect.get_feature_names())\n",
    "print(df)#tabular representation\n",
    "print(xtrain_dtm) #sparse matrix representation"
   ]
  },
  {
   "cell_type": "code",
   "execution_count": 24,
   "metadata": {},
   "outputs": [],
   "source": [
    "# Training Naive Bayes (NB) classifier on training data.\n",
    "from sklearn.naive_bayes import MultinomialNB\n",
    "clf = MultinomialNB().fit(xtrain_dtm,ytrain)\n",
    "predicted = clf.predict(xtest_dtm)"
   ]
  },
  {
   "cell_type": "code",
   "execution_count": 25,
   "metadata": {},
   "outputs": [
    {
     "name": "stdout",
     "output_type": "stream",
     "text": [
      "Accuracy metrics\n",
      "Accuracy of the classifer is 0.6\n",
      "Confusion matrix\n",
      "[[2 2]\n",
      " [0 1]]\n",
      "Recall and Precison \n",
      "1.0\n",
      "0.3333333333333333\n"
     ]
    }
   ],
   "source": [
    "#printing accuracy metrics\n",
    "from sklearn import metrics\n",
    "print('Accuracy metrics')\n",
    "print('Accuracy of the classifer is',metrics.accuracy_score(ytest,predicted))\n",
    "print('Confusion matrix')\n",
    "print(metrics.confusion_matrix(ytest,predicted))\n",
    "print('Recall and Precison ')\n",
    "print(metrics.recall_score(ytest,predicted))\n",
    "print(metrics.precision_score(ytest,predicted))"
   ]
  },
  {
   "cell_type": "code",
   "execution_count": 27,
   "metadata": {},
   "outputs": [
    {
     "name": "stdout",
     "output_type": "stream",
     "text": [
      "[1 0]\n",
      "I like this place->1\n",
      "My boss is not my saviour->0\n"
     ]
    }
   ],
   "source": [
    "docs_new = ['I like this place', 'My boss is not my saviour']\n",
    "X_new_counts = count_vect.transform(docs_new)\n",
    "predictednew = clf.predict(X_new_counts)\n",
    "print(predictednew)\n",
    "for doc, category in zip(docs_new, predictednew):\n",
    "   print('%s->%s' % (doc, category))"
   ]
  },
  {
   "cell_type": "code",
   "execution_count": null,
   "metadata": {},
   "outputs": [],
   "source": []
  }
 ],
 "metadata": {
  "kernelspec": {
   "display_name": "Python 3",
   "language": "python",
   "name": "python3"
  },
  "language_info": {
   "codemirror_mode": {
    "name": "ipython",
    "version": 3
   },
   "file_extension": ".py",
   "mimetype": "text/x-python",
   "name": "python",
   "nbconvert_exporter": "python",
   "pygments_lexer": "ipython3",
   "version": "3.7.6"
  }
 },
 "nbformat": 4,
 "nbformat_minor": 4
}
