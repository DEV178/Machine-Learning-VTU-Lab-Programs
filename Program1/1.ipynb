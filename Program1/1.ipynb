{
 "cells": [
  {
   "cell_type": "markdown",
   "metadata": {},
   "source": [
    "# Find-S algorithm "
   ]
  },
  {
   "cell_type": "markdown",
   "metadata": {},
   "source": [
    "### We have to note here that the algorithm considers only those positive training example. "
   ]
  },
  {
   "cell_type": "markdown",
   "metadata": {},
   "source": [
    "### Find-S algorithm finds the most specific hypothesis that fits all the positive examples."
   ]
  },
  {
   "cell_type": "markdown",
   "metadata": {},
   "source": [
    "### Find-S algorithm starts with the most specific hypothesis and generalizes this hypothesis each time it fails to classify an observed positive training data."
   ]
  },
  {
   "cell_type": "markdown",
   "metadata": {},
   "source": [
    "### Hence, Find-S algorithm moves from the most specific hypothesis to the most general hypothesis."
   ]
  },
  {
   "cell_type": "markdown",
   "metadata": {},
   "source": [
    "# Algorithm"
   ]
  },
  {
   "cell_type": "markdown",
   "metadata": {},
   "source": [
    "### 1) Start with the most specific hypothesis.                                      h = {ϕ, ϕ, ϕ, ϕ, ϕ, ϕ}"
   ]
  },
  {
   "cell_type": "markdown",
   "metadata": {},
   "source": [
    "### 2) Take the next example and if it is negative, then no changes occur to the hypothesis."
   ]
  },
  {
   "cell_type": "markdown",
   "metadata": {},
   "source": [
    "### 3) If the example is positive and we find that our initial hypothesis is too specific then we update our current hypothesis to general condition."
   ]
  },
  {
   "cell_type": "markdown",
   "metadata": {},
   "source": [
    "### 4) Keep repeating the above steps till all the training examples are complete."
   ]
  },
  {
   "cell_type": "markdown",
   "metadata": {},
   "source": [
    "### 5) After we have completed all the training examples we will have the final hypothesis when can used to classify the new examples."
   ]
  },
  {
   "cell_type": "code",
   "execution_count": 1,
   "metadata": {},
   "outputs": [
    {
     "name": "stdout",
     "output_type": "stream",
     "text": [
      "[['outlook', 'temp', 'humidity', 'wind', 'water', 'forecast', 'target'], [' Sunny', 'Warm', 'Normal', 'Strong', ' Warm', 'Same', 'Y'], [' Sunny', 'Warm', 'High', 'Strong', 'Warm', 'Same', 'Y'], [' Rainy', 'Cold', 'High', 'Strong', 'Warm', 'Change', 'N'], [' Sunny', 'Warm', 'High', 'Strong', 'Cool', 'Change', 'Y']]\n"
     ]
    }
   ],
   "source": [
    "import csv\n",
    "with open('tennis1.csv', 'r') as f:\n",
    "    reader = csv.reader(f)\n",
    "    your_list = list(reader)\n",
    "print(your_list)"
   ]
  },
  {
   "cell_type": "markdown",
   "metadata": {},
   "source": [
    "# csv Library"
   ]
  },
  {
   "cell_type": "markdown",
   "metadata": {},
   "source": [
    "### One of the most popular formats for exchanging data is the CSV format"
   ]
  },
  {
   "cell_type": "markdown",
   "metadata": {},
   "source": [
    "### If your work requires lots of data or numerical analysis, the pandas library has CSV parsing capabilities as well, which should handle the rest."
   ]
  },
  {
   "cell_type": "markdown",
   "metadata": {},
   "source": [
    "### A CSV file (Comma Separated Values file) is a type of plain text file that uses specific structuring to arrange tabular data"
   ]
  },
  {
   "cell_type": "markdown",
   "metadata": {},
   "source": [
    "### Normally, the first line identifies each piece of data—in other words, the name of a data column. Every subsequent line after that is actual data and is limited only by file size constraints."
   ]
  },
  {
   "cell_type": "markdown",
   "metadata": {},
   "source": [
    "### The csv library provides functionality to both read from and write to CSV files."
   ]
  },
  {
   "cell_type": "markdown",
   "metadata": {},
   "source": [
    "### Reading from a CSV file is done using the reader object. The CSV file is opened as a text file with Python’s built-in open() function, which returns a file object. This is then passed to the reader, which does the heavy lifting."
   ]
  },
  {
   "cell_type": "markdown",
   "metadata": {},
   "source": [
    "### Each row returned by the reader is a list of String elements containing the data found by removing the delimiters."
   ]
  },
  {
   "cell_type": "markdown",
   "metadata": {},
   "source": [
    "### Then, the csv.reader() is used to read the file, which returns an iterable reader object."
   ]
  },
  {
   "cell_type": "code",
   "execution_count": 2,
   "metadata": {},
   "outputs": [
    {
     "name": "stdout",
     "output_type": "stream",
     "text": [
      "['outlook', 'temp', 'humidity', 'wind', 'water', 'forecast', 'target']\n",
      "[' Sunny', 'Warm', 'Normal', 'Strong', ' Warm', 'Same', 'Y']\n",
      "[' Sunny', 'Warm', 'High', 'Strong', 'Warm', 'Same', 'Y']\n",
      "[' Rainy', 'Cold', 'High', 'Strong', 'Warm', 'Change', 'N']\n",
      "[' Sunny', 'Warm', 'High', 'Strong', 'Cool', 'Change', 'Y']\n",
      "Most specific hypothesis is\n",
      "[' Sunny', 'Warm', '?', 'Strong', '?', '?']\n"
     ]
    }
   ],
   "source": [
    "h = ['0', '0', '0', '0', '0', '0']\n",
    "\n",
    "for i in your_list:\n",
    "    print(i)\n",
    "    if i[-1] == \"Y\":\n",
    "        j = 0\n",
    "        for x in i:\n",
    "            if x != \"Y\":\n",
    "                if x != h[j] and h[j] == '0':\n",
    "                    h[j] = x\n",
    "                elif x != h[j] and h[j] != '0':\n",
    "                    h[j] = '?'\n",
    "                else:\n",
    "                    pass\n",
    "            j = j + 1\n",
    "print(\"Most specific hypothesis is\")\n",
    "print(h)\n"
   ]
  }
 ],
 "metadata": {
  "kernelspec": {
   "display_name": "Python 3",
   "language": "python",
   "name": "python3"
  },
  "language_info": {
   "codemirror_mode": {
    "name": "ipython",
    "version": 3
   },
   "file_extension": ".py",
   "mimetype": "text/x-python",
   "name": "python",
   "nbconvert_exporter": "python",
   "pygments_lexer": "ipython3",
   "version": "3.6.3"
  }
 },
 "nbformat": 4,
 "nbformat_minor": 2
}
