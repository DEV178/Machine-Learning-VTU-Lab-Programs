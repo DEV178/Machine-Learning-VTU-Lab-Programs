{
 "cells": [
  {
   "cell_type": "code",
   "execution_count": 1,
   "metadata": {},
   "outputs": [
    {
     "name": "stdout",
     "output_type": "stream",
     "text": [
      "[['color', 'size', 'shape', 'land', 'air humidity', 'texture', 'Label'], ['red', 'small', 'round', 'humid', 'low', 'smooth', 'Poisonous'], ['red', 'small', 'elongated', 'humid', 'low', 'smooth', 'Poisonous'], ['gray', 'large', 'elongated', 'humid', 'low', 'rough', 'Non Poisonous'], ['red', 'small', 'elongated', 'humid', 'high', 'rough', 'Poisonous']]\n"
     ]
    }
   ],
   "source": [
    "import csv\n",
    "with open('mushroom.csv', 'r') as f:\n",
    "    reader = csv.reader(f)\n",
    "    your_list = list(reader)\n",
    "print(your_list)"
   ]
  },
  {
   "cell_type": "code",
   "execution_count": 3,
   "metadata": {},
   "outputs": [
    {
     "name": "stdout",
     "output_type": "stream",
     "text": [
      "['color', 'size', 'shape', 'land', 'air humidity', 'texture', 'Label']\n",
      "['red', 'small', 'round', 'humid', 'low', 'smooth', 'Poisonous']\n",
      "['red', 'small', 'elongated', 'humid', 'low', 'smooth', 'Poisonous']\n",
      "['gray', 'large', 'elongated', 'humid', 'low', 'rough', 'Non Poisonous']\n",
      "['red', 'small', 'elongated', 'humid', 'high', 'rough', 'Poisonous']\n",
      "Most specific hypothesis is\n",
      "['red', 'small', '?', 'humid', '?', '?']\n"
     ]
    }
   ],
   "source": [
    "h = ['0', '0', '0', '0', '0', '0']\n",
    "\n",
    "for i in your_list:\n",
    "    print(i)\n",
    "    if i[-1] == \"Poisonous\":\n",
    "        j = 0\n",
    "        for x in i:\n",
    "            if x != \"Poisonous\":\n",
    "                if x != h[j] and h[j] == '0':\n",
    "                    h[j] = x\n",
    "                elif x != h[j] and h[j] != '0':\n",
    "                    h[j] = '?'\n",
    "                else:\n",
    "                    pass\n",
    "            j = j + 1\n",
    "print(\"Most specific hypothesis is\")\n",
    "print(h)\n"
   ]
  },
  {
   "cell_type": "code",
   "execution_count": null,
   "metadata": {},
   "outputs": [],
   "source": []
  }
 ],
 "metadata": {
  "kernelspec": {
   "display_name": "Python 3",
   "language": "python",
   "name": "python3"
  },
  "language_info": {
   "codemirror_mode": {
    "name": "ipython",
    "version": 3
   },
   "file_extension": ".py",
   "mimetype": "text/x-python",
   "name": "python",
   "nbconvert_exporter": "python",
   "pygments_lexer": "ipython3",
   "version": "3.8.7"
  }
 },
 "nbformat": 4,
 "nbformat_minor": 4
}
