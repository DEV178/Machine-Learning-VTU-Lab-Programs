{
 "cells": [
  {
   "cell_type": "code",
   "execution_count": 1,
   "metadata": {},
   "outputs": [],
   "source": [
    "import numpy as np\n",
    "from sklearn.cluster import KMeans\n",
    "import matplotlib.pyplot as plt\n",
    "from sklearn.mixture import GaussianMixture\n",
    "import pandas as pd\n"
   ]
  },
  {
   "cell_type": "code",
   "execution_count": 2,
   "metadata": {},
   "outputs": [],
   "source": [
    "X=pd.read_csv(\"heart_failure.csv\")\n",
    "x1 = X['age'].values\n",
    "x2 = X['anaemia'].values\n",
    "X = np.array(list(zip(x1, x2))).reshape(len(x1), 2)"
   ]
  },
  {
   "cell_type": "code",
   "execution_count": null,
   "metadata": {},
   "outputs": [],
   "source": []
  },
  {
   "cell_type": "code",
   "execution_count": null,
   "metadata": {},
   "outputs": [],
   "source": []
  },
  {
   "cell_type": "code",
   "execution_count": null,
   "metadata": {},
   "outputs": [],
   "source": []
  },
  {
   "cell_type": "code",
   "execution_count": null,
   "metadata": {},
   "outputs": [],
   "source": []
  },
  {
   "cell_type": "code",
   "execution_count": 18,
   "metadata": {},
   "outputs": [
    {
     "data": {
      "text/plain": [
       "<matplotlib.collections.PathCollection at 0x1d3a4b61f08>"
      ]
     },
     "execution_count": 18,
     "metadata": {},
     "output_type": "execute_result"
    },
    {
     "data": {
      "image/png": "[encoded data removed]",
      "text/plain": [
       "<Figure size 432x288 with 1 Axes>"
      ]
     },
     "metadata": {
      "needs_background": "light"
     },
     "output_type": "display_data"
    }
   ],
   "source": [
    "plt.plot()\n",
    "plt.xlim([0, 100])\n",
    "plt.ylim([0, 50])\n",
    "plt.title('Dataset')\n",
    "plt.scatter(x1, x2)"
   ]
  },
  {
   "cell_type": "code",
   "execution_count": 8,
   "metadata": {},
   "outputs": [],
   "source": [
    "plt.show()"
   ]
  },
  {
   "cell_type": "code",
   "execution_count": 9,
   "metadata": {},
   "outputs": [],
   "source": [
    "gmm = GaussianMixture(n_components=3)\n",
    "gmm.fit(X)\n",
    "em_predictions = gmm.predict(X)"
   ]
  },
  {
   "cell_type": "code",
   "execution_count": 10,
   "metadata": {},
   "outputs": [
    {
     "name": "stdout",
     "output_type": "stream",
     "text": [
      "\n",
      "EM predictions\n",
      "[1 0 0 2 0 1 1 0 0 1 1 0 2 2 2 1 1 2 0 2 0 0 0 2 1 1 1 1 0 1 1 1 2 2 0 1 1\n",
      " 1 0 0 1 2 1 1 0 2 2 0 1 0 0 2 0 0 0 1 0 0 2 1 2 2 0 2 2 0 2 1 1 0 2 0 1 0\n",
      " 1 0 1 2 1 0 1 1 0 1 0 2 0 0 2 0 1 0 2 0 0 0 0 0 0 0 0 1 1 2 0 1 0 2 0 2 1\n",
      " 0 2 0 0 0 0 1 0 1 0 0 0 0 0 2 2 0 0 2 2 0 2 0 1 1 0 0 0 2 1 2 2 0 1 2 2 0\n",
      " 1 0 1 0 2 2 0 0 2 2 1 0 0 2 0 2 2 1 2 0 0 1 2 2 0 2 0 0 1 2 0 0 2 0 0 1 0\n",
      " 0 2 0 0 2 1 0 2 1 2 1 2 0 2 0 0 2 1 0 1 2 2 1 0 2 1 2 1 2 0 1 1 2 0 0 1 0\n",
      " 2 2 0 1 0 0 0 1 0 1 2 2 2 1 1 1 0 0 1 0 2 1 2 0 0 0 2 2 2 0 2 1 2 2 0 0 2\n",
      " 2 0 0 0 0 0 2 0 0 2 2 2 2 1 2 0 2 1 1 2 0 1 1 2 0 2 0 0 2 0 1 2 0 2 0 0 0\n",
      " 2 2 2]\n",
      "mean:\n",
      " [[61.44675838  0.58816321]\n",
      " [73.41882093  0.30783914]\n",
      " [48.19847624  0.36707877]]\n",
      "\n",
      "\n",
      "Covariances\n",
      " [[[24.5074528   0.25456207]\n",
      "  [ 0.25456207  0.24222825]]\n",
      "\n",
      " [[81.97328576  1.58440483]\n",
      "  [ 1.58440483  0.21307521]]\n",
      "\n",
      " [[21.69883636  0.36083588]\n",
      "  [ 0.36083588  0.23233295]]]\n",
      "[[75.     0.   ]\n",
      " [55.     0.   ]\n",
      " [65.     0.   ]\n",
      " [50.     1.   ]\n",
      " [65.     1.   ]\n",
      " [90.     1.   ]\n",
      " [75.     1.   ]\n",
      " [60.     1.   ]\n",
      " [65.     0.   ]\n",
      " [80.     1.   ]\n",
      " [75.     1.   ]\n",
      " [62.     0.   ]\n",
      " [45.     1.   ]\n",
      " [50.     1.   ]\n",
      " [49.     1.   ]\n",
      " [82.     1.   ]\n",
      " [87.     1.   ]\n",
      " [45.     0.   ]\n",
      " [70.     1.   ]\n",
      " [48.     1.   ]\n",
      " [65.     1.   ]\n",
      " [65.     1.   ]\n",
      " [68.     1.   ]\n",
      " [53.     0.   ]\n",
      " [75.     0.   ]\n",
      " [80.     0.   ]\n",
      " [95.     1.   ]\n",
      " [70.     0.   ]\n",
      " [58.     1.   ]\n",
      " [82.     0.   ]\n",
      " [94.     0.   ]\n",
      " [85.     0.   ]\n",
      " [50.     1.   ]\n",
      " [50.     1.   ]\n",
      " [65.     0.   ]\n",
      " [69.     0.   ]\n",
      " [90.     1.   ]\n",
      " [82.     1.   ]\n",
      " [60.     0.   ]\n",
      " [60.     0.   ]\n",
      " [70.     0.   ]\n",
      " [50.     0.   ]\n",
      " [70.     0.   ]\n",
      " [72.     0.   ]\n",
      " [60.     1.   ]\n",
      " [50.     0.   ]\n",
      " [51.     0.   ]\n",
      " [60.     0.   ]\n",
      " [80.     1.   ]\n",
      " [57.     1.   ]\n",
      " [68.     1.   ]\n",
      " [53.     1.   ]\n",
      " [60.     0.   ]\n",
      " [70.     1.   ]\n",
      " [60.     1.   ]\n",
      " [95.     1.   ]\n",
      " [70.     1.   ]\n",
      " [60.     1.   ]\n",
      " [49.     0.   ]\n",
      " [72.     0.   ]\n",
      " [45.     0.   ]\n",
      " [50.     0.   ]\n",
      " [55.     0.   ]\n",
      " [45.     0.   ]\n",
      " [45.     0.   ]\n",
      " [60.     0.   ]\n",
      " [42.     1.   ]\n",
      " [72.     1.   ]\n",
      " [70.     0.   ]\n",
      " [65.     0.   ]\n",
      " [41.     0.   ]\n",
      " [58.     0.   ]\n",
      " [85.     0.   ]\n",
      " [65.     0.   ]\n",
      " [69.     0.   ]\n",
      " [60.     1.   ]\n",
      " [70.     0.   ]\n",
      " [42.     0.   ]\n",
      " [75.     1.   ]\n",
      " [55.     0.   ]\n",
      " [70.     0.   ]\n",
      " [67.     0.   ]\n",
      " [60.     1.   ]\n",
      " [79.     1.   ]\n",
      " [59.     1.   ]\n",
      " [51.     0.   ]\n",
      " [55.     0.   ]\n",
      " [65.     1.   ]\n",
      " [44.     0.   ]\n",
      " [57.     1.   ]\n",
      " [70.     0.   ]\n",
      " [60.     0.   ]\n",
      " [42.     0.   ]\n",
      " [60.     1.   ]\n",
      " [58.     0.   ]\n",
      " [58.     1.   ]\n",
      " [63.     1.   ]\n",
      " [70.     1.   ]\n",
      " [60.     1.   ]\n",
      " [63.     1.   ]\n",
      " [65.     1.   ]\n",
      " [75.     0.   ]\n",
      " [80.     0.   ]\n",
      " [42.     0.   ]\n",
      " [60.     0.   ]\n",
      " [72.     1.   ]\n",
      " [55.     0.   ]\n",
      " [45.     1.   ]\n",
      " [63.     0.   ]\n",
      " [45.     0.   ]\n",
      " [85.     0.   ]\n",
      " [55.     0.   ]\n",
      " [50.     0.   ]\n",
      " [70.     1.   ]\n",
      " [60.     1.   ]\n",
      " [58.     1.   ]\n",
      " [60.     1.   ]\n",
      " [85.     1.   ]\n",
      " [65.     1.   ]\n",
      " [86.     0.   ]\n",
      " [60.     1.   ]\n",
      " [66.     1.   ]\n",
      " [60.     0.   ]\n",
      " [60.     1.   ]\n",
      " [60.     0.   ]\n",
      " [43.     1.   ]\n",
      " [46.     0.   ]\n",
      " [58.     1.   ]\n",
      " [61.     0.   ]\n",
      " [53.     1.   ]\n",
      " [53.     1.   ]\n",
      " [60.     1.   ]\n",
      " [46.     0.   ]\n",
      " [63.     0.   ]\n",
      " [81.     0.   ]\n",
      " [75.     0.   ]\n",
      " [65.     1.   ]\n",
      " [68.     1.   ]\n",
      " [62.     0.   ]\n",
      " [50.     0.   ]\n",
      " [80.     0.   ]\n",
      " [46.     1.   ]\n",
      " [50.     0.   ]\n",
      " [61.     1.   ]\n",
      " [72.     1.   ]\n",
      " [50.     0.   ]\n",
      " [52.     0.   ]\n",
      " [64.     0.   ]\n",
      " [75.     1.   ]\n",
      " [60.     0.   ]\n",
      " [72.     0.   ]\n",
      " [62.     0.   ]\n",
      " [50.     0.   ]\n",
      " [50.     0.   ]\n",
      " [65.     1.   ]\n",
      " [60.     1.   ]\n",
      " [52.     1.   ]\n",
      " [50.     0.   ]\n",
      " [85.     1.   ]\n",
      " [59.     1.   ]\n",
      " [66.     1.   ]\n",
      " [45.     1.   ]\n",
      " [63.     1.   ]\n",
      " [50.     1.   ]\n",
      " [45.     0.   ]\n",
      " [80.     0.   ]\n",
      " [53.     0.   ]\n",
      " [59.     0.   ]\n",
      " [65.     0.   ]\n",
      " [70.     0.   ]\n",
      " [51.     1.   ]\n",
      " [52.     0.   ]\n",
      " [70.     1.   ]\n",
      " [50.     1.   ]\n",
      " [65.     0.   ]\n",
      " [60.     1.   ]\n",
      " [69.     0.   ]\n",
      " [49.     1.   ]\n",
      " [63.     1.   ]\n",
      " [55.     0.   ]\n",
      " [40.     0.   ]\n",
      " [59.     1.   ]\n",
      " [65.     0.   ]\n",
      " [75.     0.   ]\n",
      " [58.     1.   ]\n",
      " [60.667  1.   ]\n",
      " [50.     0.   ]\n",
      " [60.     0.   ]\n",
      " [60.667  1.   ]\n",
      " [40.     0.   ]\n",
      " [80.     0.   ]\n",
      " [64.     1.   ]\n",
      " [50.     1.   ]\n",
      " [73.     1.   ]\n",
      " [45.     0.   ]\n",
      " [77.     1.   ]\n",
      " [45.     0.   ]\n",
      " [65.     0.   ]\n",
      " [50.     1.   ]\n",
      " [60.     0.   ]\n",
      " [63.     1.   ]\n",
      " [45.     0.   ]\n",
      " [70.     0.   ]\n",
      " [60.     0.   ]\n",
      " [78.     1.   ]\n",
      " [50.     1.   ]\n",
      " [40.     1.   ]\n",
      " [85.     0.   ]\n",
      " [60.     1.   ]\n",
      " [49.     0.   ]\n",
      " [70.     0.   ]\n",
      " [50.     0.   ]\n",
      " [78.     0.   ]\n",
      " [48.     1.   ]\n",
      " [65.     1.   ]\n",
      " [73.     0.   ]\n",
      " [70.     0.   ]\n",
      " [54.     1.   ]\n",
      " [68.     1.   ]\n",
      " [55.     0.   ]\n",
      " [73.     0.   ]\n",
      " [65.     0.   ]\n",
      " [42.     1.   ]\n",
      " [47.     0.   ]\n",
      " [58.     0.   ]\n",
      " [75.     0.   ]\n",
      " [58.     1.   ]\n",
      " [55.     1.   ]\n",
      " [65.     0.   ]\n",
      " [72.     0.   ]\n",
      " [60.     0.   ]\n",
      " [70.     0.   ]\n",
      " [40.     1.   ]\n",
      " [53.     1.   ]\n",
      " [53.     1.   ]\n",
      " [77.     1.   ]\n",
      " [75.     0.   ]\n",
      " [70.     0.   ]\n",
      " [65.     1.   ]\n",
      " [55.     1.   ]\n",
      " [70.     0.   ]\n",
      " [65.     0.   ]\n",
      " [40.     0.   ]\n",
      " [73.     1.   ]\n",
      " [54.     0.   ]\n",
      " [61.     1.   ]\n",
      " [55.     0.   ]\n",
      " [64.     0.   ]\n",
      " [40.     0.   ]\n",
      " [53.     0.   ]\n",
      " [50.     0.   ]\n",
      " [55.     0.   ]\n",
      " [50.     0.   ]\n",
      " [70.     0.   ]\n",
      " [53.     1.   ]\n",
      " [52.     1.   ]\n",
      " [65.     0.   ]\n",
      " [58.     0.   ]\n",
      " [45.     1.   ]\n",
      " [53.     0.   ]\n",
      " [55.     0.   ]\n",
      " [62.     1.   ]\n",
      " [65.     1.   ]\n",
      " [68.     1.   ]\n",
      " [61.     0.   ]\n",
      " [50.     1.   ]\n",
      " [55.     0.   ]\n",
      " [56.     1.   ]\n",
      " [45.     0.   ]\n",
      " [40.     0.   ]\n",
      " [44.     0.   ]\n",
      " [51.     0.   ]\n",
      " [67.     0.   ]\n",
      " [42.     0.   ]\n",
      " [60.     1.   ]\n",
      " [45.     0.   ]\n",
      " [70.     0.   ]\n",
      " [70.     0.   ]\n",
      " [50.     1.   ]\n",
      " [55.     0.   ]\n",
      " [70.     0.   ]\n",
      " [70.     0.   ]\n",
      " [42.     0.   ]\n",
      " [65.     0.   ]\n",
      " [50.     1.   ]\n",
      " [55.     1.   ]\n",
      " [60.     0.   ]\n",
      " [45.     0.   ]\n",
      " [65.     0.   ]\n",
      " [90.     1.   ]\n",
      " [45.     0.   ]\n",
      " [60.     0.   ]\n",
      " [52.     0.   ]\n",
      " [63.     1.   ]\n",
      " [62.     0.   ]\n",
      " [55.     0.   ]\n",
      " [45.     0.   ]\n",
      " [45.     0.   ]\n",
      " [50.     0.   ]]\n"
     ]
    }
   ],
   "source": [
    "print(\"\\nEM predictions\")\n",
    "print(em_predictions)\n",
    "print(\"mean:\\n\",gmm.means_)\n",
    "print('\\n')\n",
    "print(\"Covariances\\n\",gmm.covariances_)\n",
    "print(X)"
   ]
  },
  {
   "cell_type": "code",
   "execution_count": 11,
   "metadata": {},
   "outputs": [
    {
     "data": {
      "image/png": "[encoded data removed]",
      "text/plain": [
       "<Figure size 432x288 with 1 Axes>"
      ]
     },
     "metadata": {
      "needs_background": "light"
     },
     "output_type": "display_data"
    }
   ],
   "source": [
    "plt.title('Exceptation Maximum')\n",
    "plt.scatter(X[:,0], X[:,1],c=em_predictions,s=50)\n",
    "plt.show()"
   ]
  },
  {
   "cell_type": "code",
   "execution_count": 12,
   "metadata": {},
   "outputs": [
    {
     "data": {
      "text/plain": [
       "KMeans(algorithm='auto', copy_x=True, init='k-means++', max_iter=300,\n",
       "       n_clusters=3, n_init=10, n_jobs=None, precompute_distances='auto',\n",
       "       random_state=None, tol=0.0001, verbose=0)"
      ]
     },
     "execution_count": 12,
     "metadata": {},
     "output_type": "execute_result"
    }
   ],
   "source": [
    "import matplotlib.pyplot as plt1\n",
    "kmeans = KMeans(n_clusters=3)\n",
    "kmeans.fit(X)"
   ]
  },
  {
   "cell_type": "code",
   "execution_count": 13,
   "metadata": {},
   "outputs": [
    {
     "name": "stdout",
     "output_type": "stream",
     "text": [
      "[[63.6890597   0.47761194]\n",
      " [79.5         0.48076923]\n",
      " [48.85840708  0.3539823 ]]\n",
      "[1 2 0 2 0 1 1 0 0 1 1 0 2 2 2 1 1 2 0 2 0 0 0 2 1 1 1 0 0 1 1 1 2 2 0 0 1\n",
      " 1 0 0 0 2 0 1 0 2 2 0 1 0 0 2 0 0 0 1 0 0 2 1 2 2 2 2 2 0 2 1 0 0 2 0 1 0\n",
      " 0 0 0 2 1 2 0 0 0 1 0 2 2 0 2 0 0 0 2 0 0 0 0 0 0 0 0 1 1 2 0 1 2 2 0 2 1\n",
      " 2 2 0 0 0 0 1 0 1 0 0 0 0 0 2 2 0 0 2 2 0 2 0 1 1 0 0 0 2 1 2 2 0 1 2 2 0\n",
      " 1 0 1 0 2 2 0 0 2 2 1 0 0 2 0 2 2 1 2 0 0 0 2 2 0 2 0 0 0 2 0 2 2 0 0 1 0\n",
      " 0 2 0 0 2 1 0 2 1 2 1 2 0 2 0 0 2 0 0 1 2 2 1 0 2 0 2 1 2 0 1 0 2 0 2 1 0\n",
      " 2 2 0 1 0 2 0 1 0 0 2 2 2 1 1 0 0 2 0 0 2 1 2 0 2 0 2 2 2 2 2 0 2 2 0 0 2\n",
      " 2 2 0 0 0 0 2 2 2 2 2 2 2 0 2 0 2 0 0 2 2 0 0 2 0 2 2 0 2 0 1 2 0 2 0 0 2\n",
      " 2 2 2]\n"
     ]
    }
   ],
   "source": [
    "print(kmeans.cluster_centers_)\n",
    "print(kmeans.labels_)"
   ]
  },
  {
   "cell_type": "code",
   "execution_count": 14,
   "metadata": {},
   "outputs": [
    {
     "data": {
      "text/plain": [
       "<matplotlib.collections.PathCollection at 0x1d3a4ae1188>"
      ]
     },
     "execution_count": 14,
     "metadata": {},
     "output_type": "execute_result"
    },
    {
     "data": {
      "image/png": "[encoded data removed]",
      "text/plain": [
       "<Figure size 432x288 with 1 Axes>"
      ]
     },
     "metadata": {
      "needs_background": "light"
     },
     "output_type": "display_data"
    }
   ],
   "source": [
    "plt.title('KMEANS')\n",
    "plt1.scatter(X[:,0], X[:,1], c=kmeans.labels_, cmap='rainbow')\n",
    "plt1.scatter(kmeans.cluster_centers_[:,0] ,kmeans.cluster_centers_[:,1], color='black')"
   ]
  }
 ],
 "metadata": {
  "kernelspec": {
   "display_name": "Python 3",
   "language": "python",
   "name": "python3"
  },
  "language_info": {
   "codemirror_mode": {
    "name": "ipython",
    "version": 3
   },
   "file_extension": ".py",
   "mimetype": "text/x-python",
   "name": "python",
   "nbconvert_exporter": "python",
   "pygments_lexer": "ipython3",
   "version": "3.7.6"
  }
 },
 "nbformat": 4,
 "nbformat_minor": 4
}
