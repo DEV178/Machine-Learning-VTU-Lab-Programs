{
 "cells": [
  {
   "cell_type": "code",
   "execution_count": 1,
   "metadata": {},
   "outputs": [],
   "source": [
    "def splitDataset(dataset, splitRatio):\n",
    "    testSize = int(len(dataset) * splitRatio);\n",
    "    trainSet = list(dataset);\n",
    "    testSet = []\n",
    "    while len(testSet) < testSize:\n",
    "    #randomly pick an instance from training data \n",
    "        index = random.randrange(len(trainSet)); \n",
    "        testSet.append(trainSet.pop(index))\n",
    "    return [trainSet, testSet]\n"
   ]
  },
  {
   "cell_type": "code",
   "execution_count": 2,
   "metadata": {},
   "outputs": [],
   "source": [
    "def compute_mean_std(dataset):\n",
    "    mean_std = [ (st.mean(attribute), st.stdev(attribute)) for attribute in zip(*dataset)]; #zip(*res) transposes a matrix (2-d array/list) \n",
    "    del mean_std[-1] # Exclude label\n",
    "    return mean_std"
   ]
  },
  {
   "cell_type": "code",
   "execution_count": 3,
   "metadata": {},
   "outputs": [],
   "source": [
    "import random, math\n",
    "import statistics as st\n"
   ]
  },
  {
   "cell_type": "code",
   "execution_count": 4,
   "metadata": {},
   "outputs": [],
   "source": [
    "def estimateProbability(x, mean, stdev):\n",
    "    exponent = math.exp(-(math.pow(x-mean,2)/(2*math.pow(stdev,2))))\n",
    "    return (1 / (math.sqrt(2*math.pi) * stdev)) * exponent"
   ]
  },
  {
   "cell_type": "code",
   "execution_count": 5,
   "metadata": {},
   "outputs": [],
   "source": [
    "def calculateClassProbabilities(summaries, testVector):\n",
    "    p = {}\n",
    "#class and attribute information as mean and sd\n",
    "    for classValue, classSummaries in summaries.items():\n",
    "        p[classValue] = 1\n",
    "        for i in range(len(classSummaries)):\n",
    "            mean, stdev = classSummaries[i]\n",
    "            x = testVector[i] #testvector's first attribute\n",
    "            #use normal distribution\n",
    "            p[classValue] *= estimateProbability(x, mean, stdev)\n",
    "    return p"
   ]
  },
  {
   "cell_type": "code",
   "execution_count": 6,
   "metadata": {},
   "outputs": [],
   "source": [
    "def predict(summaries, testVector):\n",
    "    all_p = calculateClassProbabilities(summaries, testVector)\n",
    "    print(\"All Probabilities\\n\")\n",
    "    print(all_p)\n",
    "    bestLabel, bestProb = None, -1\n",
    "    for lbl, p in all_p.items():#assigns that class which has he highest prob \n",
    "        if bestLabel is None or p > bestProb:\n",
    "            bestProb = p\n",
    "            bestLabel = lbl\n",
    "    return bestLabel"
   ]
  },
  {
   "cell_type": "code",
   "execution_count": 7,
   "metadata": {},
   "outputs": [],
   "source": [
    "def perform_classification(summaries, testSet):\n",
    "    predictions = []\n",
    "    for i in range(len(testSet)):\n",
    "        result = predict(summaries, testSet[i])\n",
    "        predictions.append(result)\n",
    "    return predictions"
   ]
  },
  {
   "cell_type": "code",
   "execution_count": null,
   "metadata": {},
   "outputs": [],
   "source": []
  },
  {
   "cell_type": "code",
   "execution_count": 8,
   "metadata": {},
   "outputs": [],
   "source": [
    "def getAccuracy(testSet, predictions):\n",
    "    correct = 0\n",
    "    for i in range(len(testSet)):\n",
    "        if testSet[i][-1] == predictions[i]:\n",
    "            correct += 1\n",
    "    return (correct/float(len(testSet))) * 100.0"
   ]
  },
  {
   "cell_type": "code",
   "execution_count": 9,
   "metadata": {},
   "outputs": [],
   "source": [
    "def separateByClass(dataset):\n",
    "    separated = {}\n",
    "    for i in range(len(dataset)):\n",
    "        x = dataset[i]\n",
    "        if (x[-1] not in separated):\n",
    "            separated[x[-1]] = []\n",
    "        separated[x[-1]].append(x)\n",
    "    return separated"
   ]
  },
  {
   "cell_type": "code",
   "execution_count": 10,
   "metadata": {},
   "outputs": [],
   "source": [
    "def summarizeByClass(dataset):\n",
    "    separated = separateByClass(dataset);\n",
    "    print(\"separated by 0,1,2 class\\n\")\n",
    "    print(separated)\n",
    "    summary = {} # to store mean and std of +ve and -ve instances \n",
    "    for classValue, instances in separated.items():\n",
    "        #summaries is a dictionary of tuples(mean,std) for each class value \n",
    "        summary[classValue] = compute_mean_std(instances)\n",
    "    print(\"Summary of mean and standard deviataion\") \n",
    "    print(summary)\n",
    "    return summary"
   ]
  },
  {
   "cell_type": "code",
   "execution_count": 11,
   "metadata": {},
   "outputs": [],
   "source": [
    "def loadCsv(filename):\n",
    "    lines = csv.reader(open(filename, \"r\"));\n",
    "    dataset = list(lines)\n",
    "    for i in range(len(dataset)):\n",
    "        dataset[i] = [float(x) for x in dataset[i]]\n",
    "    return dataset"
   ]
  },
  {
   "cell_type": "code",
   "execution_count": 12,
   "metadata": {},
   "outputs": [
    {
     "name": "stdout",
     "output_type": "stream",
     "text": [
      "Iris Dataset loaded...\n",
      "Total instances available : 150\n"
     ]
    }
   ],
   "source": [
    "import numpy as np\n",
    "import pandas as pd\n",
    "import csv\n",
    "dataset = loadCsv('iris.csv');\n",
    "print('Iris Dataset loaded...')\n",
    "print('Total instances available :',len(dataset))"
   ]
  },
  {
   "cell_type": "code",
   "execution_count": 13,
   "metadata": {},
   "outputs": [
    {
     "name": "stdout",
     "output_type": "stream",
     "text": [
      "Total attributes present : 4\n",
      "First Five instances of dataset:\n",
      "1 : [5.1, 3.5, 1.4, 0.2, 1.0]\n",
      "2 : [4.9, 3.0, 1.4, 0.2, 1.0]\n",
      "3 : [4.7, 3.2, 1.3, 0.2, 1.0]\n",
      "4 : [4.6, 3.1, 1.5, 0.2, 1.0]\n",
      "5 : [5.0, 3.6, 1.4, 0.2, 1.0]\n"
     ]
    }
   ],
   "source": [
    "print('Total attributes present :',len(dataset[0])-1)\n",
    "print(\"First Five instances of dataset:\")\n",
    "for i in range(5):\n",
    "    print(i+1 , ':' , dataset[i])\n"
   ]
  },
  {
   "cell_type": "code",
   "execution_count": 14,
   "metadata": {},
   "outputs": [
    {
     "name": "stdout",
     "output_type": "stream",
     "text": [
      "\n",
      "Dataset is split into training and testing set.\n",
      "Training Set Size 120\n",
      "Testing Set Size 30\n"
     ]
    }
   ],
   "source": [
    "splitRatio = 0.2\n",
    "trainingSet, testSet = splitDataset(dataset, splitRatio)\n",
    "print('\\nDataset is split into training and testing set.')\n",
    "print('Training Set Size',len(trainingSet))\n",
    "print('Testing Set Size',len(testSet))\n"
   ]
  },
  {
   "cell_type": "code",
   "execution_count": 15,
   "metadata": {},
   "outputs": [
    {
     "name": "stdout",
     "output_type": "stream",
     "text": [
      "separated by 0,1,2 class\n",
      "\n",
      "{1.0: [[5.1, 3.5, 1.4, 0.2, 1.0], [4.9, 3.0, 1.4, 0.2, 1.0], [4.7, 3.2, 1.3, 0.2, 1.0], [4.6, 3.1, 1.5, 0.2, 1.0], [5.0, 3.6, 1.4, 0.2, 1.0], [5.4, 3.9, 1.7, 0.4, 1.0], [4.6, 3.4, 1.4, 0.3, 1.0], [5.0, 3.4, 1.5, 0.2, 1.0], [4.4, 2.9, 1.4, 0.2, 1.0], [4.9, 3.1, 1.5, 0.1, 1.0], [4.8, 3.4, 1.6, 0.2, 1.0], [4.8, 3.0, 1.4, 0.1, 1.0], [4.3, 3.0, 1.1, 0.1, 1.0], [5.7, 4.4, 1.5, 0.4, 1.0], [5.4, 3.9, 1.3, 0.4, 1.0], [5.1, 3.5, 1.4, 0.3, 1.0], [5.7, 3.8, 1.7, 0.3, 1.0], [5.1, 3.8, 1.5, 0.3, 1.0], [5.4, 3.4, 1.7, 0.2, 1.0], [4.6, 3.6, 1.0, 0.2, 1.0], [4.8, 3.4, 1.9, 0.2, 1.0], [5.0, 3.0, 1.6, 0.2, 1.0], [5.0, 3.4, 1.6, 0.4, 1.0], [5.2, 3.4, 1.4, 0.2, 1.0], [4.7, 3.2, 1.6, 0.2, 1.0], [4.8, 3.1, 1.6, 0.2, 1.0], [5.2, 4.1, 1.5, 0.1, 1.0], [4.9, 3.1, 1.5, 0.2, 1.0], [5.5, 3.5, 1.3, 0.2, 1.0], [4.9, 3.6, 1.4, 0.1, 1.0], [4.4, 3.0, 1.3, 0.2, 1.0], [5.1, 3.4, 1.5, 0.2, 1.0], [5.0, 3.5, 1.3, 0.3, 1.0], [4.4, 3.2, 1.3, 0.2, 1.0], [5.0, 3.5, 1.6, 0.6, 1.0], [5.1, 3.8, 1.9, 0.4, 1.0], [5.1, 3.8, 1.6, 0.2, 1.0], [4.6, 3.2, 1.4, 0.2, 1.0], [5.3, 3.7, 1.5, 0.2, 1.0], [5.0, 3.3, 1.4, 0.2, 1.0]], 2.0: [[7.0, 3.2, 4.7, 1.4, 2.0], [6.4, 3.2, 4.5, 1.5, 2.0], [6.9, 3.1, 4.9, 1.5, 2.0], [5.5, 2.3, 4.0, 1.3, 2.0], [6.5, 2.8, 4.6, 1.5, 2.0], [5.7, 2.8, 4.5, 1.3, 2.0], [6.3, 3.3, 4.7, 1.6, 2.0], [4.9, 2.4, 3.3, 1.0, 2.0], [6.6, 2.9, 4.6, 1.3, 2.0], [5.2, 2.7, 3.9, 1.4, 2.0], [5.0, 2.0, 3.5, 1.0, 2.0], [6.0, 2.2, 4.0, 1.0, 2.0], [5.6, 2.9, 3.6, 1.3, 2.0], [5.6, 3.0, 4.5, 1.5, 2.0], [6.2, 2.2, 4.5, 1.5, 2.0], [5.6, 2.5, 3.9, 1.1, 2.0], [5.9, 3.2, 4.8, 1.8, 2.0], [6.3, 2.5, 4.9, 1.5, 2.0], [6.1, 2.8, 4.7, 1.2, 2.0], [6.6, 3.0, 4.4, 1.4, 2.0], [6.8, 2.8, 4.8, 1.4, 2.0], [6.7, 3.0, 5.0, 1.7, 2.0], [6.0, 2.9, 4.5, 1.5, 2.0], [5.7, 2.6, 3.5, 1.0, 2.0], [5.5, 2.4, 3.7, 1.0, 2.0], [6.0, 2.7, 5.1, 1.6, 2.0], [6.0, 3.4, 4.5, 1.6, 2.0], [6.7, 3.1, 4.7, 1.5, 2.0], [6.3, 2.3, 4.4, 1.3, 2.0], [5.6, 3.0, 4.1, 1.3, 2.0], [5.5, 2.5, 4.0, 1.3, 2.0], [5.5, 2.6, 4.4, 1.2, 2.0], [6.1, 3.0, 4.6, 1.4, 2.0], [5.6, 2.7, 4.2, 1.3, 2.0], [5.7, 3.0, 4.2, 1.2, 2.0], [5.7, 2.9, 4.2, 1.3, 2.0], [5.1, 2.5, 3.0, 1.1, 2.0], [5.7, 2.8, 4.1, 1.3, 2.0]], 3.0: [[6.3, 3.3, 6.0, 2.5, 3.0], [5.8, 2.7, 5.1, 1.9, 3.0], [6.3, 2.9, 5.6, 1.8, 3.0], [6.5, 3.0, 5.8, 2.2, 3.0], [4.9, 2.5, 4.5, 1.7, 3.0], [7.3, 2.9, 6.3, 1.8, 3.0], [7.2, 3.6, 6.1, 2.5, 3.0], [6.5, 3.2, 5.1, 2.0, 3.0], [6.4, 2.7, 5.3, 1.9, 3.0], [6.8, 3.0, 5.5, 2.1, 3.0], [5.7, 2.5, 5.0, 2.0, 3.0], [6.4, 3.2, 5.3, 2.3, 3.0], [6.5, 3.0, 5.5, 1.8, 3.0], [7.7, 3.8, 6.7, 2.2, 3.0], [7.7, 2.6, 6.9, 2.3, 3.0], [6.0, 2.2, 5.0, 1.5, 3.0], [6.9, 3.2, 5.7, 2.3, 3.0], [5.6, 2.8, 4.9, 2.0, 3.0], [7.7, 2.8, 6.7, 2.0, 3.0], [6.3, 2.7, 4.9, 1.8, 3.0], [7.2, 3.2, 6.0, 1.8, 3.0], [6.2, 2.8, 4.8, 1.8, 3.0], [6.1, 3.0, 4.9, 1.8, 3.0], [6.4, 2.8, 5.6, 2.1, 3.0], [7.9, 3.8, 6.4, 2.0, 3.0], [6.4, 2.8, 5.6, 2.2, 3.0], [6.3, 2.8, 5.1, 1.5, 3.0], [6.1, 2.6, 5.6, 1.4, 3.0], [7.7, 3.0, 6.1, 2.3, 3.0], [6.3, 3.4, 5.6, 2.4, 3.0], [6.4, 3.1, 5.5, 1.8, 3.0], [6.0, 3.0, 4.8, 1.8, 3.0], [6.9, 3.1, 5.4, 2.1, 3.0], [6.7, 3.1, 5.6, 2.4, 3.0], [6.9, 3.1, 5.1, 2.3, 3.0], [5.8, 2.7, 5.1, 1.9, 3.0], [6.8, 3.2, 5.9, 2.3, 3.0], [6.7, 3.3, 5.7, 2.5, 3.0], [6.7, 3.0, 5.2, 2.3, 3.0], [6.3, 2.5, 5.0, 1.9, 3.0], [6.5, 3.0, 5.2, 2.0, 3.0], [6.2, 3.4, 5.4, 2.3, 3.0]]}\n",
      "Summary of mean and standard deviataion\n",
      "{1.0: [(4.9625, 0.33869091877630625), (3.4275, 0.33740145759872403), (1.4725, 0.1782931898263687), (0.23500000000000001, 0.10265700920278915)], 2.0: [(5.95, 0.5381399396017681), (2.768421052631579, 0.3353942924927314), (4.302631578947368, 0.4945578653899472), (1.3447368421052632, 0.203612467654495)], 3.0: [(6.5476190476190474, 0.6306164600042876), (2.9833333333333334, 0.3385166110177746), (5.511904761904762, 0.5583959522498049), (2.0357142857142856, 0.2809577943926189)]}\n"
     ]
    }
   ],
   "source": [
    "summaries = summarizeByClass(trainingSet)\n"
   ]
  },
  {
   "cell_type": "code",
   "execution_count": 16,
   "metadata": {},
   "outputs": [
    {
     "name": "stdout",
     "output_type": "stream",
     "text": [
      "All Probabilities\n",
      "\n",
      "{1.0: 3.43156629086456e-188, 2.0: 5.348584079315069e-07, 3.0: 0.10631861854523009}\n",
      "All Probabilities\n",
      "\n",
      "{1.0: 1.4231536944691792, 2.0: 3.154740705303499e-13, 3.0: 1.825226520428173e-20}\n",
      "All Probabilities\n",
      "\n",
      "{1.0: 6.136215586095264e-96, 2.0: 0.44974971247317946, 3.0: 0.004533802122085477}\n",
      "All Probabilities\n",
      "\n",
      "{1.0: 6.067619704369969e-37, 2.0: 0.0033800352915031493, 3.0: 2.127784393712095e-09}\n",
      "All Probabilities\n",
      "\n",
      "{1.0: 0.009183847069992092, 2.0: 2.647805860999311e-16, 3.0: 1.1543431015077508e-24}\n",
      "All Probabilities\n",
      "\n",
      "{1.0: 8.696036199594551e-176, 2.0: 0.0003444872198319526, 3.0: 0.11634344331780624}\n",
      "All Probabilities\n",
      "\n",
      "{1.0: 7.474120988684165e-70, 2.0: 1.0803836461661434, 3.0: 0.00042142334311851833}\n",
      "All Probabilities\n",
      "\n",
      "{1.0: 4.5449444782301686e-82, 2.0: 0.8880088713079701, 3.0: 0.0021969992338884375}\n",
      "All Probabilities\n",
      "\n",
      "{1.0: 3.852424747274764e-199, 2.0: 2.854959338096642e-06, 3.0: 0.43652102581387947}\n",
      "All Probabilities\n",
      "\n",
      "{1.0: 1.258282868107408e-54, 2.0: 0.1557012088317472, 3.0: 1.5315302042649377e-06}\n",
      "All Probabilities\n",
      "\n",
      "{1.0: 0.1643691149813803, 2.0: 2.0212538935549705e-11, 3.0: 8.655637953649841e-19}\n",
      "All Probabilities\n",
      "\n",
      "{1.0: 2.0151750262293668e-61, 2.0: 0.7321673034860433, 3.0: 4.905293692915856e-05}\n",
      "All Probabilities\n",
      "\n",
      "{1.0: 4.196959653645387e-65, 2.0: 0.7612104872061319, 3.0: 6.0517868974991495e-05}\n",
      "All Probabilities\n",
      "\n",
      "{1.0: 2.1857064433513025, 2.0: 1.9001475660452605e-14, 3.0: 1.555637540625993e-21}\n",
      "All Probabilities\n",
      "\n",
      "{1.0: 9.554223167629824e-102, 2.0: 0.8663493530369644, 3.0: 0.015323345959781779}\n",
      "All Probabilities\n",
      "\n",
      "{1.0: 1.9991064894314326e-264, 2.0: 2.116978893871348e-10, 3.0: 0.027387404023118112}\n",
      "All Probabilities\n",
      "\n",
      "{1.0: 3.3695125069308425e-61, 2.0: 0.2879605277401565, 3.0: 1.2084136737457074e-05}\n",
      "All Probabilities\n",
      "\n",
      "{1.0: 0.2171813756298035, 2.0: 4.925511157189878e-19, 3.0: 2.6883228806522985e-25}\n",
      "All Probabilities\n",
      "\n",
      "{1.0: 3.538241074262375, 2.0: 2.540296587643565e-16, 3.0: 5.0949501840891655e-23}\n",
      "All Probabilities\n",
      "\n",
      "{1.0: 4.680321076211191e-81, 2.0: 1.130820723441684, 3.0: 0.0019397512329483173}\n",
      "All Probabilities\n",
      "\n",
      "{1.0: 0.039604017312837116, 2.0: 6.155964539161642e-19, 3.0: 2.4926932250285175e-25}\n",
      "All Probabilities\n",
      "\n",
      "{1.0: 4.512653311908986e-92, 2.0: 0.30601264221782243, 3.0: 0.007370808559425245}\n",
      "All Probabilities\n",
      "\n",
      "{1.0: 2.161005240745858e-185, 2.0: 0.0003214637791410335, 3.0: 0.16319633882712284}\n",
      "All Probabilities\n",
      "\n",
      "{1.0: 8.62892437669494, 2.0: 7.1126878941300085e-16, 3.0: 7.981008631451187e-23}\n",
      "All Probabilities\n",
      "\n",
      "{1.0: 5.205136088025665e-142, 2.0: 0.024473772359715706, 3.0: 0.23887476144434996}\n",
      "All Probabilities\n",
      "\n",
      "{1.0: 2.813803989552072, 2.0: 4.987311674138759e-17, 3.0: 1.8352973471892824e-24}\n",
      "All Probabilities\n",
      "\n",
      "{1.0: 3.644290766234613, 2.0: 7.113232482235426e-15, 3.0: 1.4061357935646838e-22}\n",
      "All Probabilities\n",
      "\n",
      "{1.0: 1.906377647629938e-85, 2.0: 0.8001159673295936, 3.0: 0.004582421214162276}\n",
      "All Probabilities\n",
      "\n",
      "{1.0: 3.2324830969407943e-214, 2.0: 6.250745381116599e-07, 3.0: 0.3938345570819019}\n",
      "All Probabilities\n",
      "\n",
      "{1.0: 4.844620474562774e-215, 2.0: 1.2098458997358836e-06, 3.0: 0.13389589461366982}\n",
      "predicted values\n",
      "\n",
      "[3.0, 1.0, 2.0, 2.0, 1.0, 3.0, 2.0, 2.0, 3.0, 2.0, 1.0, 2.0, 2.0, 1.0, 2.0, 3.0, 2.0, 1.0, 1.0, 2.0, 1.0, 2.0, 3.0, 1.0, 3.0, 1.0, 1.0, 2.0, 3.0, 3.0]\n"
     ]
    }
   ],
   "source": [
    "predictions = perform_classification(summaries, testSet)\n",
    "print(\"predicted values\\n\")\n",
    "print(predictions)\n"
   ]
  },
  {
   "cell_type": "code",
   "execution_count": 17,
   "metadata": {},
   "outputs": [
    {
     "name": "stdout",
     "output_type": "stream",
     "text": [
      "\n",
      "Accuracy of the Naive Baysian Classifier is : 100.0\n"
     ]
    }
   ],
   "source": [
    "accuracy = getAccuracy(testSet, predictions)\n",
    "print('\\nAccuracy of the Naive Baysian Classifier is :', accuracy)"
   ]
  },
  {
   "cell_type": "code",
   "execution_count": null,
   "metadata": {},
   "outputs": [],
   "source": []
  }
 ],
 "metadata": {
  "kernelspec": {
   "display_name": "Python 3",
   "language": "python",
   "name": "python3"
  },
  "language_info": {
   "codemirror_mode": {
    "name": "ipython",
    "version": 3
   },
   "file_extension": ".py",
   "mimetype": "text/x-python",
   "name": "python",
   "nbconvert_exporter": "python",
   "pygments_lexer": "ipython3",
   "version": "3.7.6"
  }
 },
 "nbformat": 4,
 "nbformat_minor": 4
}
