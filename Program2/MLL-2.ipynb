{
 "cells": [
  {
   "cell_type": "code",
   "execution_count": 1,
   "metadata": {},
   "outputs": [
    {
     "name": "stdout",
     "output_type": "stream",
     "text": [
      "['outlook', 'temp', 'humidity', 'wind', 'water', 'forecast', 'target']\n",
      "['Sunny', 'Warm', 'Normal', 'Strong', 'Warm', 'Same', 'Y']\n",
      "['Sunny', 'Warm', 'High', 'Strong', 'Warm', 'Same', 'Y']\n",
      "['Rainy', 'Cold', 'High', 'Strong', 'Warm', 'Change', 'N']\n",
      "['Sunny', 'Warm', 'High', 'Strong', 'Cool', 'Change', 'Y']\n",
      "Most specific hypothesis is\n",
      "['Sunny', 'Warm', '?', 'Strong', '?', '?']\n"
     ]
    }
   ],
   "source": [
    "import csv\n",
    "\n",
    "with open('tennis1.csv', 'r') as f:\n",
    "    reader = csv.reader(f)\n",
    "    your_list = list(reader)\n",
    "\n",
    "h = ['0', '0', '0', '0', '0', '0']\n",
    "\n",
    "for i in your_list:\n",
    "    print(i)\n",
    "    if i[-1] == \"Y\":\n",
    "        j = 0\n",
    "        for x in i:\n",
    "            if x != \"Y\":\n",
    "                if x != h[j] and h[j] == '0':\n",
    "                    h[j] = x\n",
    "                elif x != h[j] and h[j] != '0':\n",
    "                    h[j] = '?'\n",
    "                else:\n",
    "                    pass\n",
    "            j = j + 1\n",
    "print(\"Most specific hypothesis is\")\n",
    "print(h)"
   ]
  },
  {
   "cell_type": "code",
   "execution_count": null,
   "metadata": {},
   "outputs": [],
   "source": []
  }
 ],
 "metadata": {
  "kernelspec": {
   "display_name": "Python 3",
   "language": "python",
   "name": "python3"
  },
  "language_info": {
   "codemirror_mode": {
    "name": "ipython",
    "version": 3
   },
   "file_extension": ".py",
   "mimetype": "text/x-python",
   "name": "python",
   "nbconvert_exporter": "python",
   "pygments_lexer": "ipython3",
   "version": "3.7.6"
  }
 },
 "nbformat": 4,
 "nbformat_minor": 4
}
