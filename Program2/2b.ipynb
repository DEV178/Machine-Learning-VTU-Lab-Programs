{
 "cells": [
  {
   "cell_type": "code",
   "execution_count": 1,
   "metadata": {},
   "outputs": [
    {
     "name": "stdout",
     "output_type": "stream",
     "text": [
      "[['color', 'size', 'shape', 'land', 'air humidity', 'texture', 'Label'], ['red', 'small', 'round', 'humid', 'low', 'smooth', 'Poisonous'], ['red', 'small', 'elongated', 'humid', 'low', 'smooth', 'Poisonous'], ['gray', 'large', 'elongated', 'humid', 'low', 'rough', 'Non Poisonous'], ['red', 'small', 'elongated', 'humid', 'high', 'rough', 'Poisonous']]\n"
     ]
    }
   ],
   "source": [
    "import csv\n",
    "dataset = list()\n",
    "with open('mushroom.csv','r')as f:\n",
    "    data = csv.reader(f)\n",
    "    for row in data:\n",
    "        dataset.append(row)\n",
    "        \n",
    "print(dataset)"
   ]
  },
  {
   "cell_type": "code",
   "execution_count": 2,
   "metadata": {},
   "outputs": [],
   "source": [
    "s = list()\n",
    "GHyp = list()\n",
    "g = dict()\n",
    "for head in dataset[0][:-1]:\n",
    "    g[head] = '?';\n",
    "    s.append('0')"
   ]
  },
  {
   "cell_type": "code",
   "execution_count": 3,
   "metadata": {},
   "outputs": [
    {
     "name": "stdout",
     "output_type": "stream",
     "text": [
      "Specific Hypothesis ['0', '0', '0', '0', '0', '0']\n",
      "General Hypothesis {'color': '?', 'size': '?', 'shape': '?', 'land': '?', 'air humidity': '?', 'texture': '?'}\n",
      "GHypothesis []\n"
     ]
    }
   ],
   "source": [
    "print(\"Specific Hypothesis\",s)\n",
    "print(\"General Hypothesis\",g)\n",
    "print(\"GHypothesis\",GHyp)"
   ]
  },
  {
   "cell_type": "code",
   "execution_count": 4,
   "metadata": {},
   "outputs": [
    {
     "name": "stdout",
     "output_type": "stream",
     "text": [
      "Extra hypothesis\n",
      "{'color': '?', 'size': '?', 'shape': '?', 'land': '?', 'air humidity': '?', 'texture': 'smooth'}\n"
     ]
    }
   ],
   "source": [
    "for row in dataset[1:]:\n",
    "    if(row[-1] == 'Poisonous'):\n",
    "        for i in range (0, len(row) - 1):\n",
    "            if s[i] == row[i]:\n",
    "                continue\n",
    "            if s[i] == '0':\n",
    "                s[i] = row[i]\n",
    "            else:\n",
    "                s[i] = '?'\n",
    "                if len(GHyp) > 0:\n",
    "                    for dictionary in range(0, len(GHyp)):\n",
    "                        if GHyp[dictionary][dataset[0][i]] != '?':\n",
    "                            print('Extra hypothesis')\n",
    "                            print(GHyp[dictionary])\n",
    "                            del GHyp[dictionary]\n",
    "                \n",
    "    else:\n",
    "        for i in range (0, len(row) - 1):\n",
    "            if s[i] == '?' or s[i] == row[i]:\n",
    "                continue\n",
    "            temp = dict(g)\n",
    "            temp[dataset[0][i]] = s[i]\n",
    "            GHyp.append(temp)"
   ]
  },
  {
   "cell_type": "code",
   "execution_count": 5,
   "metadata": {},
   "outputs": [
    {
     "name": "stdout",
     "output_type": "stream",
     "text": [
      "['red', 'small', '?', 'humid', '?', '?']\n"
     ]
    }
   ],
   "source": [
    "print(s)"
   ]
  },
  {
   "cell_type": "code",
   "execution_count": 6,
   "metadata": {},
   "outputs": [
    {
     "name": "stdout",
     "output_type": "stream",
     "text": [
      "{'color': '?', 'size': '?', 'shape': '?', 'land': '?', 'air humidity': '?', 'texture': '?'}\n"
     ]
    }
   ],
   "source": [
    "print(g)"
   ]
  },
  {
   "cell_type": "code",
   "execution_count": 7,
   "metadata": {},
   "outputs": [
    {
     "name": "stdout",
     "output_type": "stream",
     "text": [
      "[{'color': 'red', 'size': '?', 'shape': '?', 'land': '?', 'air humidity': '?', 'texture': '?'}, {'color': '?', 'size': 'small', 'shape': '?', 'land': '?', 'air humidity': '?', 'texture': '?'}]\n"
     ]
    }
   ],
   "source": [
    "print(GHyp)"
   ]
  },
  {
   "cell_type": "code",
   "execution_count": 8,
   "metadata": {},
   "outputs": [
    {
     "name": "stdout",
     "output_type": "stream",
     "text": [
      "Ghypothesis ['red', '?', '?', '?', '?', '?']\n",
      "Ghypothesis ['?', 'small', '?', '?', '?', '?']\n",
      "Hypothesis in Version Space:  [['red', 'small', '?', 'humid', '?', '?'], ['red', '?', '?', '?', '?', '?'], ['?', 'small', '?', '?', '?', '?']]\n"
     ]
    }
   ],
   "source": [
    "Hypotheses = list()\n",
    "Hypotheses.append(s[:])\n",
    "for dictionary in GHyp:\n",
    "    valid = True\n",
    "    position = -1\n",
    "    if (list(dictionary.values()) not in Hypotheses):\n",
    "        GHypothesis = list(dictionary.values())\n",
    "        print(\"Ghypothesis\",GHypothesis)\n",
    "        for value in GHypothesis:\n",
    "            position += 1\n",
    "            if value != '?':\n",
    "                break\n",
    "        for row in dataset:\n",
    "            if row[position] == GHypothesis[position] and row[-1] == 'Non Poisonous':\n",
    "                valid = False\n",
    "        if valid:\n",
    "            Hypotheses.append(GHypothesis[:])\n",
    "    \n",
    "print('Hypothesis in Version Space: ',Hypotheses)"
   ]
  },
  {
   "cell_type": "code",
   "execution_count": null,
   "metadata": {},
   "outputs": [],
   "source": []
  }
 ],
 "metadata": {
  "kernelspec": {
   "display_name": "Python 3",
   "language": "python",
   "name": "python3"
  },
  "language_info": {
   "codemirror_mode": {
    "name": "ipython",
    "version": 3
   },
   "file_extension": ".py",
   "mimetype": "text/x-python",
   "name": "python",
   "nbconvert_exporter": "python",
   "pygments_lexer": "ipython3",
   "version": "3.8.7"
  }
 },
 "nbformat": 4,
 "nbformat_minor": 2
}
