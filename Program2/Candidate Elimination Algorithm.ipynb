{
 "cells": [
  {
   "cell_type": "code",
   "execution_count": 50,
   "metadata": {},
   "outputs": [
    {
     "name": "stdout",
     "output_type": "stream",
     "text": [
      "[['outlook', 'temp', 'humidity', 'wind', 'water', 'forecast', 'target'], [' Sunny', 'Warm', 'Normal', 'Strong', ' Warm', 'Same', 'Y'], [' Sunny', 'Warm', 'High', 'Strong', 'Warm', 'Same', 'Y'], [' Rainy', 'Cold', 'High', 'Strong', 'Warm', 'Change', 'N'], [' Sunny', 'Warm', 'High', 'Strong', 'Cool', 'Change', 'Y']]\n"
     ]
    }
   ],
   "source": [
    "import csv\n",
    "dataset = list()\n",
    "with open('tennis1.csv','r')as f:\n",
    "    data = csv.reader(f)\n",
    "    for row in data:\n",
    "        dataset.append(row)\n",
    "        \n",
    "print(dataset)"
   ]
  },
  {
   "cell_type": "code",
   "execution_count": 51,
   "metadata": {
    "collapsed": true
   },
   "outputs": [],
   "source": [
    "s = list()\n",
    "GHyp = list()\n",
    "g = dict()\n",
    "for head in dataset[0][:-1]:\n",
    "    g[head] = '?';\n",
    "    s.append('0')"
   ]
  },
  {
   "cell_type": "code",
   "execution_count": 52,
   "metadata": {},
   "outputs": [
    {
     "name": "stdout",
     "output_type": "stream",
     "text": [
      "Specific Hypothesis ['0', '0', '0', '0', '0', '0']\n",
      "General Hypothesis {'outlook': '?', 'temp': '?', 'humidity': '?', 'wind': '?', 'water': '?', 'forecast': '?'}\n",
      "GHypothesis []\n"
     ]
    }
   ],
   "source": [
    "print(\"Specific Hypothesis\",s)\n",
    "print(\"General Hypothesis\",g)\n",
    "print(\"GHypothesis\",GHyp)"
   ]
  },
  {
   "cell_type": "code",
   "execution_count": 53,
   "metadata": {},
   "outputs": [
    {
     "name": "stdout",
     "output_type": "stream",
     "text": [
      "Extra hypothesis\n",
      "{'outlook': '?', 'temp': '?', 'humidity': '?', 'wind': '?', 'water': '?', 'forecast': 'Same'}\n"
     ]
    }
   ],
   "source": [
    "for row in dataset[1:]:\n",
    "    if(row[-1] == 'Y'):\n",
    "        for i in range (0, len(row) - 1):\n",
    "            if s[i] == row[i]:\n",
    "                continue\n",
    "            if s[i] == '0':\n",
    "                s[i] = row[i]\n",
    "            else:\n",
    "                s[i] = '?'\n",
    "                if len(GHyp) > 0:\n",
    "                    for dictionary in range(0, len(GHyp)):\n",
    "                        if GHyp[dictionary][dataset[0][i]] != '?':\n",
    "                            print('Extra hypothesis')\n",
    "                            print(GHyp[dictionary])\n",
    "                            del GHyp[dictionary]\n",
    "                \n",
    "    else:\n",
    "        for i in range (0, len(row) - 1):\n",
    "            if s[i] == '?' or s[i] == row[i]:\n",
    "                continue\n",
    "            temp = dict(g)\n",
    "            temp[dataset[0][i]] = s[i]\n",
    "            GHyp.append(temp)"
   ]
  },
  {
   "cell_type": "code",
   "execution_count": 54,
   "metadata": {},
   "outputs": [
    {
     "name": "stdout",
     "output_type": "stream",
     "text": [
      "[' Sunny', 'Warm', '?', 'Strong', '?', '?']\n"
     ]
    }
   ],
   "source": [
    "print(s)"
   ]
  },
  {
   "cell_type": "code",
   "execution_count": 55,
   "metadata": {},
   "outputs": [
    {
     "name": "stdout",
     "output_type": "stream",
     "text": [
      "{'outlook': '?', 'temp': '?', 'humidity': '?', 'wind': '?', 'water': '?', 'forecast': '?'}\n"
     ]
    }
   ],
   "source": [
    "print(g)"
   ]
  },
  {
   "cell_type": "code",
   "execution_count": 56,
   "metadata": {},
   "outputs": [
    {
     "name": "stdout",
     "output_type": "stream",
     "text": [
      "[{'outlook': ' Sunny', 'temp': '?', 'humidity': '?', 'wind': '?', 'water': '?', 'forecast': '?'}, {'outlook': '?', 'temp': 'Warm', 'humidity': '?', 'wind': '?', 'water': '?', 'forecast': '?'}]\n"
     ]
    }
   ],
   "source": [
    "print(GHyp)"
   ]
  },
  {
   "cell_type": "code",
   "execution_count": 57,
   "metadata": {},
   "outputs": [
    {
     "name": "stdout",
     "output_type": "stream",
     "text": [
      "Ghypothesis [' Sunny', '?', '?', '?', '?', '?']\n",
      "Ghypothesis ['?', 'Warm', '?', '?', '?', '?']\n",
      "Hypothesis in Version Space:  [[' Sunny', 'Warm', '?', 'Strong', '?', '?'], [' Sunny', '?', '?', '?', '?', '?'], ['?', 'Warm', '?', '?', '?', '?']]\n"
     ]
    }
   ],
   "source": [
    "Hypotheses = list()\n",
    "Hypotheses.append(s[:])\n",
    "for dictionary in GHyp:\n",
    "    valid = True\n",
    "    position = -1\n",
    "    if (list(dictionary.values()) not in Hypotheses):\n",
    "        GHypothesis = list(dictionary.values())\n",
    "        print(\"Ghypothesis\",GHypothesis)\n",
    "        for value in GHypothesis:\n",
    "            position += 1\n",
    "            if value != '?':\n",
    "                break\n",
    "        for row in dataset:\n",
    "            if row[position] == GHypothesis[position] and row[-1] == 'N':\n",
    "                valid = False\n",
    "        if valid:\n",
    "            Hypotheses.append(GHypothesis[:])\n",
    "    \n",
    "print('Hypothesis in Version Space: ',Hypotheses)"
   ]
  }
 ],
 "metadata": {
  "kernelspec": {
   "display_name": "Python 3",
   "language": "python",
   "name": "python3"
  },
  "language_info": {
   "codemirror_mode": {
    "name": "ipython",
    "version": 3
   },
   "file_extension": ".py",
   "mimetype": "text/x-python",
   "name": "python",
   "nbconvert_exporter": "python",
   "pygments_lexer": "ipython3",
   "version": "3.6.3"
  }
 },
 "nbformat": 4,
 "nbformat_minor": 2
}
